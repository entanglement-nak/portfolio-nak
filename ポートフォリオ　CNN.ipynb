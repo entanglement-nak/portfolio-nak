{
  "nbformat": 4,
  "nbformat_minor": 0,
  "metadata": {
    "colab": {
      "provenance": [],
      "authorship_tag": "ABX9TyPsoQRQPR2rxp1qPpS2g7XS",
      "include_colab_link": true
    },
    "kernelspec": {
      "name": "python3",
      "display_name": "Python 3"
    },
    "language_info": {
      "name": "python"
    }
  },
  "cells": [
    {
      "cell_type": "markdown",
      "metadata": {
        "id": "view-in-github",
        "colab_type": "text"
      },
      "source": [
        "<a href=\"https://colab.research.google.com/github/entanglement-nak/portfolio-nak/blob/main/%E3%83%9D%E3%83%BC%E3%83%88%E3%83%95%E3%82%A9%E3%83%AA%E3%82%AA%E3%80%80CNN.ipynb\" target=\"_parent\"><img src=\"https://colab.research.google.com/assets/colab-badge.svg\" alt=\"Open In Colab\"/></a>"
      ]
    },
    {
      "cell_type": "code",
      "source": [
        "import pandas as pd\n",
        "import numpy as np\n",
        "from sklearn.model_selection import train_test_split\n",
        "from sklearn.preprocessing import StandardScaler\n",
        "from sklearn.metrics import accuracy_score, f1_score\n",
        "from keras.models import Sequential\n",
        "from keras.layers import Dense, Conv1D, Flatten, MaxPooling1D\n",
        "from keras.optimizers import Adam\n",
        "from keras.utils import to_categorical\n",
        "from sklearn.metrics import accuracy_score, f1_score, matthews_corrcoef"
      ],
      "metadata": {
        "id": "9ZWAKidBjU0t"
      },
      "execution_count": 1,
      "outputs": []
    },
    {
      "cell_type": "code",
      "source": [
        "from google.colab import drive\n",
        "drive.mount('/content/drive')"
      ],
      "metadata": {
        "colab": {
          "base_uri": "https://localhost:8080/"
        },
        "id": "VpLQYeB5aqS3",
        "outputId": "88a60240-3c87-430b-8f19-aafc47231fc7"
      },
      "execution_count": 2,
      "outputs": [
        {
          "output_type": "stream",
          "name": "stdout",
          "text": [
            "Mounted at /content/drive\n"
          ]
        }
      ]
    },
    {
      "cell_type": "code",
      "source": [
        "# データパス\n",
        "train_file_path = r\"/content/drive/MyDrive/Wafer/Wafer_TRAIN.xlsx\"\n",
        "\n",
        "test_file_path = r\"/content/drive/MyDrive/Wafer/Wafer_TEST.xlsx\""
      ],
      "metadata": {
        "id": "JkaQhFSjatT8"
      },
      "execution_count": 3,
      "outputs": []
    },
    {
      "cell_type": "code",
      "source": [
        "# 訓練データとテストデータの読み込み\n",
        "train_data = pd.read_excel(train_file_path)\n",
        "test_data = pd.read_excel(test_file_path)"
      ],
      "metadata": {
        "id": "cC5MOLtxeOio"
      },
      "execution_count": 4,
      "outputs": []
    },
    {
      "cell_type": "code",
      "source": [
        "# データの前処理\n",
        "combined_data = pd.concat([train_data, test_data])\n",
        "labels = combined_data.iloc[:, 0]\n",
        "features = combined_data.iloc[:, 1:]\n",
        "features = features.apply(pd.to_numeric, errors='coerce').fillna(0)"
      ],
      "metadata": {
        "id": "1xVl2ghqkAah"
      },
      "execution_count": 7,
      "outputs": []
    },
    {
      "cell_type": "code",
      "source": [
        "# 特徴量の名前を文字列に変換\n",
        "features.columns = features.columns.astype(str)\n",
        "\n",
        "# 以降の処理は同じです\n",
        "scaler = StandardScaler()\n",
        "features_normalized = scaler.fit_transform(features)\n",
        "# ...（以降のコードは変更なし）\n"
      ],
      "metadata": {
        "id": "Srv79Zz4kxxJ"
      },
      "execution_count": 8,
      "outputs": []
    },
    {
      "cell_type": "code",
      "source": [
        "# 特徴量の正規化\n",
        "scaler = StandardScaler()\n",
        "features_normalized = scaler.fit_transform(features)"
      ],
      "metadata": {
        "id": "zz5iWQWMkDoK"
      },
      "execution_count": 9,
      "outputs": []
    },
    {
      "cell_type": "code",
      "source": [
        "# 訓練データとテストデータの分割\n",
        "X_train, X_test, y_train, y_test = train_test_split(features_normalized, labels, test_size=0.3, random_state=42)"
      ],
      "metadata": {
        "id": "tAesEhOckHQM"
      },
      "execution_count": 10,
      "outputs": []
    },
    {
      "cell_type": "code",
      "source": [
        "# 1次元CNNモデルの構築\n",
        "model = Sequential()\n",
        "model.add(Conv1D(filters=64, kernel_size=3, activation='relu', input_shape=(X_train.shape[1], 1)))\n",
        "model.add(MaxPooling1D(pool_size=2))\n",
        "model.add(Flatten())\n",
        "model.add(Dense(50, activation='relu'))\n",
        "model.add(Dense(1, activation='sigmoid'))"
      ],
      "metadata": {
        "id": "PgzAUgUJkJ7y"
      },
      "execution_count": 11,
      "outputs": []
    },
    {
      "cell_type": "code",
      "source": [
        "# モデルのコンパイル\n",
        "model.compile(optimizer=Adam(), loss='binary_crossentropy', metrics=['accuracy'])"
      ],
      "metadata": {
        "id": "6p25_1VHkMiM"
      },
      "execution_count": 12,
      "outputs": []
    },
    {
      "cell_type": "code",
      "source": [
        "# データの形状調整\n",
        "X_train_reshaped = X_train.reshape((X_train.shape[0], X_train.shape[1], 1))\n",
        "X_test_reshaped = X_test.reshape((X_test.shape[0], X_test.shape[1], 1))\n",
        "y_train_encoded = (y_train + 1) / 2\n",
        "y_test_encoded = (y_test + 1) / 2"
      ],
      "metadata": {
        "id": "YS4_ddxWkO4c"
      },
      "execution_count": 13,
      "outputs": []
    },
    {
      "cell_type": "code",
      "source": [
        "# モデルの訓練\n",
        "history = model.fit(X_train_reshaped, y_train_encoded, epochs=10, validation_data=(X_test_reshaped, y_test_encoded))"
      ],
      "metadata": {
        "colab": {
          "base_uri": "https://localhost:8080/"
        },
        "id": "wPrEoCsUkQ-5",
        "outputId": "4497c290-dcf9-42ad-cc14-1f0c5b35308b"
      },
      "execution_count": 14,
      "outputs": [
        {
          "output_type": "stream",
          "name": "stdout",
          "text": [
            "Epoch 1/10\n",
            "157/157 [==============================] - 5s 23ms/step - loss: 0.1043 - accuracy: 0.9645 - val_loss: 0.0249 - val_accuracy: 0.9944\n",
            "Epoch 2/10\n",
            "157/157 [==============================] - 4s 25ms/step - loss: 0.0226 - accuracy: 0.9932 - val_loss: 0.0178 - val_accuracy: 0.9926\n",
            "Epoch 3/10\n",
            "157/157 [==============================] - 5s 32ms/step - loss: 0.0151 - accuracy: 0.9964 - val_loss: 0.0132 - val_accuracy: 0.9972\n",
            "Epoch 4/10\n",
            "157/157 [==============================] - 3s 21ms/step - loss: 0.0159 - accuracy: 0.9974 - val_loss: 0.0132 - val_accuracy: 0.9986\n",
            "Epoch 5/10\n",
            "157/157 [==============================] - 3s 21ms/step - loss: 0.0108 - accuracy: 0.9978 - val_loss: 0.0142 - val_accuracy: 0.9991\n",
            "Epoch 6/10\n",
            "157/157 [==============================] - 3s 22ms/step - loss: 0.0095 - accuracy: 0.9986 - val_loss: 0.0102 - val_accuracy: 0.9991\n",
            "Epoch 7/10\n",
            "157/157 [==============================] - 5s 32ms/step - loss: 0.0087 - accuracy: 0.9986 - val_loss: 0.0120 - val_accuracy: 0.9986\n",
            "Epoch 8/10\n",
            "157/157 [==============================] - 3s 20ms/step - loss: 0.0077 - accuracy: 0.9994 - val_loss: 0.0092 - val_accuracy: 0.9995\n",
            "Epoch 9/10\n",
            "157/157 [==============================] - 4s 23ms/step - loss: 0.0067 - accuracy: 0.9998 - val_loss: 0.0099 - val_accuracy: 0.9977\n",
            "Epoch 10/10\n",
            "157/157 [==============================] - 3s 19ms/step - loss: 0.0065 - accuracy: 0.9998 - val_loss: 0.0090 - val_accuracy: 0.9995\n"
          ]
        }
      ]
    },
    {
      "cell_type": "code",
      "source": [
        "# テストデータでの評価\n",
        "y_pred = model.predict(X_test_reshaped)\n",
        "y_pred = (y_pred > 0.5).astype(int).flatten()"
      ],
      "metadata": {
        "colab": {
          "base_uri": "https://localhost:8080/"
        },
        "id": "tpFdq6_3kTG5",
        "outputId": "ee6ee23e-9dbb-4330-f7b6-2548b9ca8419"
      },
      "execution_count": 15,
      "outputs": [
        {
          "output_type": "stream",
          "name": "stdout",
          "text": [
            "68/68 [==============================] - 1s 7ms/step\n"
          ]
        }
      ]
    },
    {
      "cell_type": "code",
      "source": [
        "# 評価指標の計算\n",
        "accuracy = accuracy_score(y_test_encoded, y_pred)\n",
        "f1_macro = f1_score(y_test_encoded, y_pred, average='macro')\n",
        "f1_weighted = f1_score(y_test_encoded, y_pred, average='weighted')\n",
        "mcc = matthews_corrcoef(y_test_encoded, y_pred)\n",
        "\n",
        "print(f'Accuracy: {accuracy}')\n",
        "print(f'Macro F1 Score: {f1_macro}')\n",
        "print(f'Weighted F1 Score: {f1_weighted}')\n",
        "print(f'MCC: {mcc}')"
      ],
      "metadata": {
        "colab": {
          "base_uri": "https://localhost:8080/"
        },
        "id": "Or7MlzG1kVhv",
        "outputId": "ed7b5fab-2080-41c0-c23f-db586d8a2349"
      },
      "execution_count": 16,
      "outputs": [
        {
          "output_type": "stream",
          "name": "stdout",
          "text": [
            "Accuracy: 0.9995346672871103\n",
            "Macro F1 Score: 0.9988033195214838\n",
            "Weighted F1 Score: 0.9995351026131613\n",
            "MCC: 0.9976094976183556\n"
          ]
        }
      ]
    },
    {
      "cell_type": "markdown",
      "source": [
        "過学習していないかチェックを行う。"
      ],
      "metadata": {
        "id": "KXW1kSuflMO8"
      }
    },
    {
      "cell_type": "code",
      "source": [
        "import matplotlib.pyplot as plt\n",
        "\n",
        "# 訓練中の精度と損失の履歴を取得\n",
        "acc = history.history['accuracy']\n",
        "val_acc = history.history['val_accuracy']\n",
        "loss = history.history['loss']\n",
        "val_loss = history.history['val_loss']\n",
        "\n",
        "epochs = range(1, len(acc) + 1)\n",
        "\n",
        "# 訓練とテストの精度をプロット\n",
        "plt.plot(epochs, acc, 'bo', label='Training accuracy')\n",
        "plt.plot(epochs, val_acc, 'b', label='Validation accuracy')\n",
        "plt.title('Training and validation accuracy')\n",
        "plt.legend()\n",
        "\n",
        "plt.figure()\n",
        "\n",
        "# 訓練とテストの損失をプロット\n",
        "plt.plot(epochs, loss, 'bo', label='Training loss')\n",
        "plt.plot(epochs, val_loss, 'b', label='Validation loss')\n",
        "plt.title('Training and validation loss')\n",
        "plt.legend()\n",
        "\n",
        "plt.show()"
      ],
      "metadata": {
        "colab": {
          "base_uri": "https://localhost:8080/",
          "height": 887
        },
        "id": "0hEPgmbFlS2N",
        "outputId": "5db41e65-c4a5-4b95-eb00-d241844bab21"
      },
      "execution_count": 17,
      "outputs": [
        {
          "output_type": "display_data",
          "data": {
            "text/plain": [
              "<Figure size 640x480 with 1 Axes>"
            ],
            "image/png": "[encoded data removed]"
          },
          "metadata": {}
        },
        {
          "output_type": "display_data",
          "data": {
            "text/plain": [
              "<Figure size 640x480 with 1 Axes>"
            ],
            "image/png": "[encoded data removed]"
          },
          "metadata": {}
        }
      ]
    }
  ]
}