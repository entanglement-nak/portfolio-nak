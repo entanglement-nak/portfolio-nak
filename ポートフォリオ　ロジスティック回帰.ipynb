{
  "nbformat": 4,
  "nbformat_minor": 0,
  "metadata": {
    "colab": {
      "provenance": [],
      "authorship_tag": "ABX9TyNXF3RpS3BF9quyK3nGGb/w",
      "include_colab_link": true
    },
    "kernelspec": {
      "name": "python3",
      "display_name": "Python 3"
    },
    "language_info": {
      "name": "python"
    }
  },
  "cells": [
    {
      "cell_type": "markdown",
      "metadata": {
        "id": "view-in-github",
        "colab_type": "text"
      },
      "source": [
        "<a href=\"https://colab.research.google.com/github/entanglement-nak/portfolio-nak/blob/main/%E3%83%9D%E3%83%BC%E3%83%88%E3%83%95%E3%82%A9%E3%83%AA%E3%82%AA%E3%80%80%E3%83%AD%E3%82%B8%E3%82%B9%E3%83%86%E3%82%A3%E3%83%83%E3%82%AF%E5%9B%9E%E5%B8%B0.ipynb\" target=\"_parent\"><img src=\"https://colab.research.google.com/assets/colab-badge.svg\" alt=\"Open In Colab\"/></a>"
      ]
    },
    {
      "cell_type": "code",
      "execution_count": null,
      "metadata": {
        "id": "eHdhWBSzaEW6"
      },
      "outputs": [],
      "source": [
        "import pandas as pd\n",
        "import numpy as np\n",
        "from sklearn.model_selection import train_test_split\n",
        "from sklearn.linear_model import LogisticRegression\n",
        "from sklearn.metrics import classification_report, confusion_matrix, accuracy_score, f1_score\n",
        "from sklearn.utils import resample"
      ]
    },
    {
      "cell_type": "code",
      "source": [
        "from google.colab import drive\n",
        "drive.mount('/content/drive')"
      ],
      "metadata": {
        "colab": {
          "base_uri": "https://localhost:8080/"
        },
        "id": "VpLQYeB5aqS3",
        "outputId": "636507a7-e2dc-44b9-b235-27d65223ffdf"
      },
      "execution_count": null,
      "outputs": [
        {
          "output_type": "stream",
          "name": "stdout",
          "text": [
            "Mounted at /content/drive\n"
          ]
        }
      ]
    },
    {
      "cell_type": "code",
      "source": [
        "# データパス\n",
        "train_path = r\"/content/drive/MyDrive/Wafer/Wafer_TRAIN.xlsx\"\n",
        "\n",
        "test_path = r\"/content/drive/MyDrive/Wafer/Wafer_TEST.xlsx\""
      ],
      "metadata": {
        "id": "JkaQhFSjatT8"
      },
      "execution_count": null,
      "outputs": []
    },
    {
      "cell_type": "code",
      "source": [
        "train_df = pd.read_excel(train_path, header=None)\n",
        "\n",
        "test_df = pd.read_excel(test_path, header=None)"
      ],
      "metadata": {
        "id": "cC5MOLtxeOio"
      },
      "execution_count": null,
      "outputs": []
    },
    {
      "cell_type": "code",
      "source": [
        "train_df.head()"
      ],
      "metadata": {
        "colab": {
          "base_uri": "https://localhost:8080/",
          "height": 236
        },
        "id": "GN4dDGUCfGUX",
        "outputId": "79287b91-d36d-42a9-c9d4-51d830df76aa"
      },
      "execution_count": null,
      "outputs": [
        {
          "output_type": "execute_result",
          "data": {
            "text/plain": [
              "   0         1         2         3         4         5         6         7    \\\n",
              "0    1 -1.602294 -1.670823 -1.693666 -1.699377 -1.699377 -1.703660 -1.703660   \n",
              "1    1  1.084591  1.084591  1.084591  1.065308  1.065308  1.065308  1.065308   \n",
              "2    1  0.362689  0.362689  0.362689  0.393316  0.362689  0.362689  0.362689   \n",
              "3    1 -1.094523 -1.094523 -1.094523 -1.096732 -1.094523 -1.096732 -1.094523   \n",
              "4    1 -1.103761 -1.103761 -1.103761 -1.103761 -1.103761 -1.103761 -1.103761   \n",
              "\n",
              "        8         9    ...       143       144       145       146       147  \\\n",
              "0 -1.703660 -1.703660  ... -1.145432 -1.145432 -1.145432 -1.145432 -1.145432   \n",
              "1  1.065308  1.065308  ...  1.065308  1.065308  1.065308  1.065308  1.065308   \n",
              "2  0.362689  0.362689  ...  0.393316  0.393316  0.393316  0.362689  0.393316   \n",
              "3 -1.094523 -1.094523  ... -1.096732 -1.096732 -1.096732 -1.096732 -1.096732   \n",
              "4 -1.103761 -1.103761  ... -1.103761 -1.103761 -1.103761 -1.103761 -1.103761   \n",
              "\n",
              "        148       149       150       151       152  \n",
              "0 -1.145432 -1.145432 -1.145432 -1.145432 -1.145432  \n",
              "1  1.065308  1.065308  1.065308  1.065308  1.065308  \n",
              "2  0.393316  0.393316  0.393316  0.393316  0.393316  \n",
              "3 -1.096732 -1.096732 -1.096732 -1.096732 -1.096732  \n",
              "4 -1.103761 -1.103761 -1.103761 -1.103761 -1.103761  \n",
              "\n",
              "[5 rows x 153 columns]"
            ],
            "text/html": [
              "\n",
              "  <div id=\"df-7133416a-5bf0-440c-92c8-8f9ccd50c438\" class=\"colab-df-container\">\n",
              "    <div>\n",
              "<style scoped>\n",
              "    .dataframe tbody tr th:only-of-type {\n",
              "        vertical-align: middle;\n",
              "    }\n",
              "\n",
              "    .dataframe tbody tr th {\n",
              "        vertical-align: top;\n",
              "    }\n",
              "\n",
              "    .dataframe thead th {\n",
              "        text-align: right;\n",
              "    }\n",
              "</style>\n",
              "<table border=\"1\" class=\"dataframe\">\n",
              "  <thead>\n",
              "    <tr style=\"text-align: right;\">\n",
              "      <th></th>\n",
              "      <th>0</th>\n",
              "      <th>1</th>\n",
              "      <th>2</th>\n",
              "      <th>3</th>\n",
              "      <th>4</th>\n",
              "      <th>5</th>\n",
              "      <th>6</th>\n",
              "      <th>7</th>\n",
              "      <th>8</th>\n",
              "      <th>9</th>\n",
              "      <th>...</th>\n",
              "      <th>143</th>\n",
              "      <th>144</th>\n",
              "      <th>145</th>\n",
              "      <th>146</th>\n",
              "      <th>147</th>\n",
              "      <th>148</th>\n",
              "      <th>149</th>\n",
              "      <th>150</th>\n",
              "      <th>151</th>\n",
              "      <th>152</th>\n",
              "    </tr>\n",
              "  </thead>\n",
              "  <tbody>\n",
              "    <tr>\n",
              "      <th>0</th>\n",
              "      <td>1</td>\n",
              "      <td>-1.602294</td>\n",
              "      <td>-1.670823</td>\n",
              "      <td>-1.693666</td>\n",
              "      <td>-1.699377</td>\n",
              "      <td>-1.699377</td>\n",
              "      <td>-1.703660</td>\n",
              "      <td>-1.703660</td>\n",
              "      <td>-1.703660</td>\n",
              "      <td>-1.703660</td>\n",
              "      <td>...</td>\n",
              "      <td>-1.145432</td>\n",
              "      <td>-1.145432</td>\n",
              "      <td>-1.145432</td>\n",
              "      <td>-1.145432</td>\n",
              "      <td>-1.145432</td>\n",
              "      <td>-1.145432</td>\n",
              "      <td>-1.145432</td>\n",
              "      <td>-1.145432</td>\n",
              "      <td>-1.145432</td>\n",
              "      <td>-1.145432</td>\n",
              "    </tr>\n",
              "    <tr>\n",
              "      <th>1</th>\n",
              "      <td>1</td>\n",
              "      <td>1.084591</td>\n",
              "      <td>1.084591</td>\n",
              "      <td>1.084591</td>\n",
              "      <td>1.065308</td>\n",
              "      <td>1.065308</td>\n",
              "      <td>1.065308</td>\n",
              "      <td>1.065308</td>\n",
              "      <td>1.065308</td>\n",
              "      <td>1.065308</td>\n",
              "      <td>...</td>\n",
              "      <td>1.065308</td>\n",
              "      <td>1.065308</td>\n",
              "      <td>1.065308</td>\n",
              "      <td>1.065308</td>\n",
              "      <td>1.065308</td>\n",
              "      <td>1.065308</td>\n",
              "      <td>1.065308</td>\n",
              "      <td>1.065308</td>\n",
              "      <td>1.065308</td>\n",
              "      <td>1.065308</td>\n",
              "    </tr>\n",
              "    <tr>\n",
              "      <th>2</th>\n",
              "      <td>1</td>\n",
              "      <td>0.362689</td>\n",
              "      <td>0.362689</td>\n",
              "      <td>0.362689</td>\n",
              "      <td>0.393316</td>\n",
              "      <td>0.362689</td>\n",
              "      <td>0.362689</td>\n",
              "      <td>0.362689</td>\n",
              "      <td>0.362689</td>\n",
              "      <td>0.362689</td>\n",
              "      <td>...</td>\n",
              "      <td>0.393316</td>\n",
              "      <td>0.393316</td>\n",
              "      <td>0.393316</td>\n",
              "      <td>0.362689</td>\n",
              "      <td>0.393316</td>\n",
              "      <td>0.393316</td>\n",
              "      <td>0.393316</td>\n",
              "      <td>0.393316</td>\n",
              "      <td>0.393316</td>\n",
              "      <td>0.393316</td>\n",
              "    </tr>\n",
              "    <tr>\n",
              "      <th>3</th>\n",
              "      <td>1</td>\n",
              "      <td>-1.094523</td>\n",
              "      <td>-1.094523</td>\n",
              "      <td>-1.094523</td>\n",
              "      <td>-1.096732</td>\n",
              "      <td>-1.094523</td>\n",
              "      <td>-1.096732</td>\n",
              "      <td>-1.094523</td>\n",
              "      <td>-1.094523</td>\n",
              "      <td>-1.094523</td>\n",
              "      <td>...</td>\n",
              "      <td>-1.096732</td>\n",
              "      <td>-1.096732</td>\n",
              "      <td>-1.096732</td>\n",
              "      <td>-1.096732</td>\n",
              "      <td>-1.096732</td>\n",
              "      <td>-1.096732</td>\n",
              "      <td>-1.096732</td>\n",
              "      <td>-1.096732</td>\n",
              "      <td>-1.096732</td>\n",
              "      <td>-1.096732</td>\n",
              "    </tr>\n",
              "    <tr>\n",
              "      <th>4</th>\n",
              "      <td>1</td>\n",
              "      <td>-1.103761</td>\n",
              "      <td>-1.103761</td>\n",
              "      <td>-1.103761</td>\n",
              "      <td>-1.103761</td>\n",
              "      <td>-1.103761</td>\n",
              "      <td>-1.103761</td>\n",
              "      <td>-1.103761</td>\n",
              "      <td>-1.103761</td>\n",
              "      <td>-1.103761</td>\n",
              "      <td>...</td>\n",
              "      <td>-1.103761</td>\n",
              "      <td>-1.103761</td>\n",
              "      <td>-1.103761</td>\n",
              "      <td>-1.103761</td>\n",
              "      <td>-1.103761</td>\n",
              "      <td>-1.103761</td>\n",
              "      <td>-1.103761</td>\n",
              "      <td>-1.103761</td>\n",
              "      <td>-1.103761</td>\n",
              "      <td>-1.103761</td>\n",
              "    </tr>\n",
              "  </tbody>\n",
              "</table>\n",
              "<p>5 rows × 153 columns</p>\n",
              "</div>\n",
              "    <div class=\"colab-df-buttons\">\n",
              "\n",
              "  <div class=\"colab-df-container\">\n",
              "    <button class=\"colab-df-convert\" onclick=\"convertToInteractive('df-7133416a-5bf0-440c-92c8-8f9ccd50c438')\"\n",
              "            title=\"Convert this dataframe to an interactive table.\"\n",
              "            style=\"display:none;\">\n",
              "\n",
              "  <svg xmlns=\"http://www.w3.org/2000/svg\" height=\"24px\" viewBox=\"0 -960 960 960\">\n",
              "    <path d=\"M120-120v-720h720v720H120Zm60-500h600v-160H180v160Zm220 220h160v-160H400v160Zm0 220h160v-160H400v160ZM180-400h160v-160H180v160Zm440 0h160v-160H620v160ZM180-180h160v-160H180v160Zm440 0h160v-160H620v160Z\"/>\n",
              "  </svg>\n",
              "    </button>\n",
              "\n",
              "  <style>\n",
              "    .colab-df-container {\n",
              "      display:flex;\n",
              "      gap: 12px;\n",
              "    }\n",
              "\n",
              "    .colab-df-convert {\n",
              "      background-color: #E8F0FE;\n",
              "      border: none;\n",
              "      border-radius: 50%;\n",
              "      cursor: pointer;\n",
              "      display: none;\n",
              "      fill: #1967D2;\n",
              "      height: 32px;\n",
              "      padding: 0 0 0 0;\n",
              "      width: 32px;\n",
              "    }\n",
              "\n",
              "    .colab-df-convert:hover {\n",
              "      background-color: #E2EBFA;\n",
              "      box-shadow: 0px 1px 2px rgba(60, 64, 67, 0.3), 0px 1px 3px 1px rgba(60, 64, 67, 0.15);\n",
              "      fill: #174EA6;\n",
              "    }\n",
              "\n",
              "    .colab-df-buttons div {\n",
              "      margin-bottom: 4px;\n",
              "    }\n",
              "\n",
              "    [theme=dark] .colab-df-convert {\n",
              "      background-color: #3B4455;\n",
              "      fill: #D2E3FC;\n",
              "    }\n",
              "\n",
              "    [theme=dark] .colab-df-convert:hover {\n",
              "      background-color: #434B5C;\n",
              "      box-shadow: 0px 1px 3px 1px rgba(0, 0, 0, 0.15);\n",
              "      filter: drop-shadow(0px 1px 2px rgba(0, 0, 0, 0.3));\n",
              "      fill: #FFFFFF;\n",
              "    }\n",
              "  </style>\n",
              "\n",
              "    <script>\n",
              "      const buttonEl =\n",
              "        document.querySelector('#df-7133416a-5bf0-440c-92c8-8f9ccd50c438 button.colab-df-convert');\n",
              "      buttonEl.style.display =\n",
              "        google.colab.kernel.accessAllowed ? 'block' : 'none';\n",
              "\n",
              "      async function convertToInteractive(key) {\n",
              "        const element = document.querySelector('#df-7133416a-5bf0-440c-92c8-8f9ccd50c438');\n",
              "        const dataTable =\n",
              "          await google.colab.kernel.invokeFunction('convertToInteractive',\n",
              "                                                    [key], {});\n",
              "        if (!dataTable) return;\n",
              "\n",
              "        const docLinkHtml = 'Like what you see? Visit the ' +\n",
              "          '<a target=\"_blank\" href=https://colab.research.google.com/notebooks/data_table.ipynb>data table notebook</a>'\n",
              "          + ' to learn more about interactive tables.';\n",
              "        element.innerHTML = '';\n",
              "        dataTable['output_type'] = 'display_data';\n",
              "        await google.colab.output.renderOutput(dataTable, element);\n",
              "        const docLink = document.createElement('div');\n",
              "        docLink.innerHTML = docLinkHtml;\n",
              "        element.appendChild(docLink);\n",
              "      }\n",
              "    </script>\n",
              "  </div>\n",
              "\n",
              "\n",
              "<div id=\"df-94914536-b96b-4f06-9690-c93b96f278e4\">\n",
              "  <button class=\"colab-df-quickchart\" onclick=\"quickchart('df-94914536-b96b-4f06-9690-c93b96f278e4')\"\n",
              "            title=\"Suggest charts\"\n",
              "            style=\"display:none;\">\n",
              "\n",
              "<svg xmlns=\"http://www.w3.org/2000/svg\" height=\"24px\"viewBox=\"0 0 24 24\"\n",
              "     width=\"24px\">\n",
              "    <g>\n",
              "        <path d=\"M19 3H5c-1.1 0-2 .9-2 2v14c0 1.1.9 2 2 2h14c1.1 0 2-.9 2-2V5c0-1.1-.9-2-2-2zM9 17H7v-7h2v7zm4 0h-2V7h2v10zm4 0h-2v-4h2v4z\"/>\n",
              "    </g>\n",
              "</svg>\n",
              "  </button>\n",
              "\n",
              "<style>\n",
              "  .colab-df-quickchart {\n",
              "      --bg-color: #E8F0FE;\n",
              "      --fill-color: #1967D2;\n",
              "      --hover-bg-color: #E2EBFA;\n",
              "      --hover-fill-color: #174EA6;\n",
              "      --disabled-fill-color: #AAA;\n",
              "      --disabled-bg-color: #DDD;\n",
              "  }\n",
              "\n",
              "  [theme=dark] .colab-df-quickchart {\n",
              "      --bg-color: #3B4455;\n",
              "      --fill-color: #D2E3FC;\n",
              "      --hover-bg-color: #434B5C;\n",
              "      --hover-fill-color: #FFFFFF;\n",
              "      --disabled-bg-color: #3B4455;\n",
              "      --disabled-fill-color: #666;\n",
              "  }\n",
              "\n",
              "  .colab-df-quickchart {\n",
              "    background-color: var(--bg-color);\n",
              "    border: none;\n",
              "    border-radius: 50%;\n",
              "    cursor: pointer;\n",
              "    display: none;\n",
              "    fill: var(--fill-color);\n",
              "    height: 32px;\n",
              "    padding: 0;\n",
              "    width: 32px;\n",
              "  }\n",
              "\n",
              "  .colab-df-quickchart:hover {\n",
              "    background-color: var(--hover-bg-color);\n",
              "    box-shadow: 0 1px 2px rgba(60, 64, 67, 0.3), 0 1px 3px 1px rgba(60, 64, 67, 0.15);\n",
              "    fill: var(--button-hover-fill-color);\n",
              "  }\n",
              "\n",
              "  .colab-df-quickchart-complete:disabled,\n",
              "  .colab-df-quickchart-complete:disabled:hover {\n",
              "    background-color: var(--disabled-bg-color);\n",
              "    fill: var(--disabled-fill-color);\n",
              "    box-shadow: none;\n",
              "  }\n",
              "\n",
              "  .colab-df-spinner {\n",
              "    border: 2px solid var(--fill-color);\n",
              "    border-color: transparent;\n",
              "    border-bottom-color: var(--fill-color);\n",
              "    animation:\n",
              "      spin 1s steps(1) infinite;\n",
              "  }\n",
              "\n",
              "  @keyframes spin {\n",
              "    0% {\n",
              "      border-color: transparent;\n",
              "      border-bottom-color: var(--fill-color);\n",
              "      border-left-color: var(--fill-color);\n",
              "    }\n",
              "    20% {\n",
              "      border-color: transparent;\n",
              "      border-left-color: var(--fill-color);\n",
              "      border-top-color: var(--fill-color);\n",
              "    }\n",
              "    30% {\n",
              "      border-color: transparent;\n",
              "      border-left-color: var(--fill-color);\n",
              "      border-top-color: var(--fill-color);\n",
              "      border-right-color: var(--fill-color);\n",
              "    }\n",
              "    40% {\n",
              "      border-color: transparent;\n",
              "      border-right-color: var(--fill-color);\n",
              "      border-top-color: var(--fill-color);\n",
              "    }\n",
              "    60% {\n",
              "      border-color: transparent;\n",
              "      border-right-color: var(--fill-color);\n",
              "    }\n",
              "    80% {\n",
              "      border-color: transparent;\n",
              "      border-right-color: var(--fill-color);\n",
              "      border-bottom-color: var(--fill-color);\n",
              "    }\n",
              "    90% {\n",
              "      border-color: transparent;\n",
              "      border-bottom-color: var(--fill-color);\n",
              "    }\n",
              "  }\n",
              "</style>\n",
              "\n",
              "  <script>\n",
              "    async function quickchart(key) {\n",
              "      const quickchartButtonEl =\n",
              "        document.querySelector('#' + key + ' button');\n",
              "      quickchartButtonEl.disabled = true;  // To prevent multiple clicks.\n",
              "      quickchartButtonEl.classList.add('colab-df-spinner');\n",
              "      try {\n",
              "        const charts = await google.colab.kernel.invokeFunction(\n",
              "            'suggestCharts', [key], {});\n",
              "      } catch (error) {\n",
              "        console.error('Error during call to suggestCharts:', error);\n",
              "      }\n",
              "      quickchartButtonEl.classList.remove('colab-df-spinner');\n",
              "      quickchartButtonEl.classList.add('colab-df-quickchart-complete');\n",
              "    }\n",
              "    (() => {\n",
              "      let quickchartButtonEl =\n",
              "        document.querySelector('#df-94914536-b96b-4f06-9690-c93b96f278e4 button');\n",
              "      quickchartButtonEl.style.display =\n",
              "        google.colab.kernel.accessAllowed ? 'block' : 'none';\n",
              "    })();\n",
              "  </script>\n",
              "</div>\n",
              "\n",
              "    </div>\n",
              "  </div>\n"
            ]
          },
          "metadata": {},
          "execution_count": 6
        }
      ]
    },
    {
      "cell_type": "code",
      "source": [
        "test_df.head()"
      ],
      "metadata": {
        "colab": {
          "base_uri": "https://localhost:8080/",
          "height": 236
        },
        "id": "E2zprO7afOkA",
        "outputId": "331ea379-0c20-445e-c699-dc0b8ac77830"
      },
      "execution_count": null,
      "outputs": [
        {
          "output_type": "execute_result",
          "data": {
            "text/plain": [
              "   0         1         2         3         4         5         6         7    \\\n",
              "0    1 -1.079707 -1.083256 -1.079707 -1.079707 -1.079707 -1.079707 -1.079707   \n",
              "1    1 -1.080197 -1.078021 -1.078021 -1.078021 -1.078021 -1.078021 -1.080197   \n",
              "2    1 -1.154060 -1.154060 -1.154060 -1.154060 -1.154060 -1.154060 -1.154060   \n",
              "3    1 -1.658965 -1.696605 -1.705291 -1.711082 -1.711082 -1.715425 -1.715425   \n",
              "4    1 -1.201221 -1.199042 -1.199042 -1.201221 -1.199042 -1.199042 -1.199042   \n",
              "\n",
              "        8         9    ...       143       144       145       146       147  \\\n",
              "0 -1.079707 -1.079707  ... -1.079707 -1.079707 -1.079707 -1.079707 -1.079707   \n",
              "1 -1.078021 -1.078021  ... -1.110670 -1.112846 -1.115023 -1.117199 -1.119376   \n",
              "2 -1.154060 -1.154060  ... -1.154060 -1.154060 -1.154060 -1.154060 -1.154060   \n",
              "3 -1.715425 -1.715425  ... -1.149382 -1.149382 -1.149382 -1.149382 -1.149382   \n",
              "4 -1.199042 -1.199042  ... -1.185968 -1.183789 -1.181610 -1.179431 -1.177251   \n",
              "\n",
              "        148       149       150       151       152  \n",
              "0 -1.079707 -1.079707 -1.079707 -1.079707 -1.079707  \n",
              "1 -1.121553 -1.123729 -1.125906 -1.128082 -1.130259  \n",
              "2 -1.154060 -1.154060 -1.154060 -1.154060 -1.154060  \n",
              "3 -1.149382 -1.149382 -1.149382 -1.149382 -1.149382  \n",
              "4 -1.175072 -1.172893 -1.170714 -1.168535 -1.166356  \n",
              "\n",
              "[5 rows x 153 columns]"
            ],
            "text/html": [
              "\n",
              "  <div id=\"df-36225c0a-8e3f-4b2a-afc1-ed558b3a9fc5\" class=\"colab-df-container\">\n",
              "    <div>\n",
              "<style scoped>\n",
              "    .dataframe tbody tr th:only-of-type {\n",
              "        vertical-align: middle;\n",
              "    }\n",
              "\n",
              "    .dataframe tbody tr th {\n",
              "        vertical-align: top;\n",
              "    }\n",
              "\n",
              "    .dataframe thead th {\n",
              "        text-align: right;\n",
              "    }\n",
              "</style>\n",
              "<table border=\"1\" class=\"dataframe\">\n",
              "  <thead>\n",
              "    <tr style=\"text-align: right;\">\n",
              "      <th></th>\n",
              "      <th>0</th>\n",
              "      <th>1</th>\n",
              "      <th>2</th>\n",
              "      <th>3</th>\n",
              "      <th>4</th>\n",
              "      <th>5</th>\n",
              "      <th>6</th>\n",
              "      <th>7</th>\n",
              "      <th>8</th>\n",
              "      <th>9</th>\n",
              "      <th>...</th>\n",
              "      <th>143</th>\n",
              "      <th>144</th>\n",
              "      <th>145</th>\n",
              "      <th>146</th>\n",
              "      <th>147</th>\n",
              "      <th>148</th>\n",
              "      <th>149</th>\n",
              "      <th>150</th>\n",
              "      <th>151</th>\n",
              "      <th>152</th>\n",
              "    </tr>\n",
              "  </thead>\n",
              "  <tbody>\n",
              "    <tr>\n",
              "      <th>0</th>\n",
              "      <td>1</td>\n",
              "      <td>-1.079707</td>\n",
              "      <td>-1.083256</td>\n",
              "      <td>-1.079707</td>\n",
              "      <td>-1.079707</td>\n",
              "      <td>-1.079707</td>\n",
              "      <td>-1.079707</td>\n",
              "      <td>-1.079707</td>\n",
              "      <td>-1.079707</td>\n",
              "      <td>-1.079707</td>\n",
              "      <td>...</td>\n",
              "      <td>-1.079707</td>\n",
              "      <td>-1.079707</td>\n",
              "      <td>-1.079707</td>\n",
              "      <td>-1.079707</td>\n",
              "      <td>-1.079707</td>\n",
              "      <td>-1.079707</td>\n",
              "      <td>-1.079707</td>\n",
              "      <td>-1.079707</td>\n",
              "      <td>-1.079707</td>\n",
              "      <td>-1.079707</td>\n",
              "    </tr>\n",
              "    <tr>\n",
              "      <th>1</th>\n",
              "      <td>1</td>\n",
              "      <td>-1.080197</td>\n",
              "      <td>-1.078021</td>\n",
              "      <td>-1.078021</td>\n",
              "      <td>-1.078021</td>\n",
              "      <td>-1.078021</td>\n",
              "      <td>-1.078021</td>\n",
              "      <td>-1.080197</td>\n",
              "      <td>-1.078021</td>\n",
              "      <td>-1.078021</td>\n",
              "      <td>...</td>\n",
              "      <td>-1.110670</td>\n",
              "      <td>-1.112846</td>\n",
              "      <td>-1.115023</td>\n",
              "      <td>-1.117199</td>\n",
              "      <td>-1.119376</td>\n",
              "      <td>-1.121553</td>\n",
              "      <td>-1.123729</td>\n",
              "      <td>-1.125906</td>\n",
              "      <td>-1.128082</td>\n",
              "      <td>-1.130259</td>\n",
              "    </tr>\n",
              "    <tr>\n",
              "      <th>2</th>\n",
              "      <td>1</td>\n",
              "      <td>-1.154060</td>\n",
              "      <td>-1.154060</td>\n",
              "      <td>-1.154060</td>\n",
              "      <td>-1.154060</td>\n",
              "      <td>-1.154060</td>\n",
              "      <td>-1.154060</td>\n",
              "      <td>-1.154060</td>\n",
              "      <td>-1.154060</td>\n",
              "      <td>-1.154060</td>\n",
              "      <td>...</td>\n",
              "      <td>-1.154060</td>\n",
              "      <td>-1.154060</td>\n",
              "      <td>-1.154060</td>\n",
              "      <td>-1.154060</td>\n",
              "      <td>-1.154060</td>\n",
              "      <td>-1.154060</td>\n",
              "      <td>-1.154060</td>\n",
              "      <td>-1.154060</td>\n",
              "      <td>-1.154060</td>\n",
              "      <td>-1.154060</td>\n",
              "    </tr>\n",
              "    <tr>\n",
              "      <th>3</th>\n",
              "      <td>1</td>\n",
              "      <td>-1.658965</td>\n",
              "      <td>-1.696605</td>\n",
              "      <td>-1.705291</td>\n",
              "      <td>-1.711082</td>\n",
              "      <td>-1.711082</td>\n",
              "      <td>-1.715425</td>\n",
              "      <td>-1.715425</td>\n",
              "      <td>-1.715425</td>\n",
              "      <td>-1.715425</td>\n",
              "      <td>...</td>\n",
              "      <td>-1.149382</td>\n",
              "      <td>-1.149382</td>\n",
              "      <td>-1.149382</td>\n",
              "      <td>-1.149382</td>\n",
              "      <td>-1.149382</td>\n",
              "      <td>-1.149382</td>\n",
              "      <td>-1.149382</td>\n",
              "      <td>-1.149382</td>\n",
              "      <td>-1.149382</td>\n",
              "      <td>-1.149382</td>\n",
              "    </tr>\n",
              "    <tr>\n",
              "      <th>4</th>\n",
              "      <td>1</td>\n",
              "      <td>-1.201221</td>\n",
              "      <td>-1.199042</td>\n",
              "      <td>-1.199042</td>\n",
              "      <td>-1.201221</td>\n",
              "      <td>-1.199042</td>\n",
              "      <td>-1.199042</td>\n",
              "      <td>-1.199042</td>\n",
              "      <td>-1.199042</td>\n",
              "      <td>-1.199042</td>\n",
              "      <td>...</td>\n",
              "      <td>-1.185968</td>\n",
              "      <td>-1.183789</td>\n",
              "      <td>-1.181610</td>\n",
              "      <td>-1.179431</td>\n",
              "      <td>-1.177251</td>\n",
              "      <td>-1.175072</td>\n",
              "      <td>-1.172893</td>\n",
              "      <td>-1.170714</td>\n",
              "      <td>-1.168535</td>\n",
              "      <td>-1.166356</td>\n",
              "    </tr>\n",
              "  </tbody>\n",
              "</table>\n",
              "<p>5 rows × 153 columns</p>\n",
              "</div>\n",
              "    <div class=\"colab-df-buttons\">\n",
              "\n",
              "  <div class=\"colab-df-container\">\n",
              "    <button class=\"colab-df-convert\" onclick=\"convertToInteractive('df-36225c0a-8e3f-4b2a-afc1-ed558b3a9fc5')\"\n",
              "            title=\"Convert this dataframe to an interactive table.\"\n",
              "            style=\"display:none;\">\n",
              "\n",
              "  <svg xmlns=\"http://www.w3.org/2000/svg\" height=\"24px\" viewBox=\"0 -960 960 960\">\n",
              "    <path d=\"M120-120v-720h720v720H120Zm60-500h600v-160H180v160Zm220 220h160v-160H400v160Zm0 220h160v-160H400v160ZM180-400h160v-160H180v160Zm440 0h160v-160H620v160ZM180-180h160v-160H180v160Zm440 0h160v-160H620v160Z\"/>\n",
              "  </svg>\n",
              "    </button>\n",
              "\n",
              "  <style>\n",
              "    .colab-df-container {\n",
              "      display:flex;\n",
              "      gap: 12px;\n",
              "    }\n",
              "\n",
              "    .colab-df-convert {\n",
              "      background-color: #E8F0FE;\n",
              "      border: none;\n",
              "      border-radius: 50%;\n",
              "      cursor: pointer;\n",
              "      display: none;\n",
              "      fill: #1967D2;\n",
              "      height: 32px;\n",
              "      padding: 0 0 0 0;\n",
              "      width: 32px;\n",
              "    }\n",
              "\n",
              "    .colab-df-convert:hover {\n",
              "      background-color: #E2EBFA;\n",
              "      box-shadow: 0px 1px 2px rgba(60, 64, 67, 0.3), 0px 1px 3px 1px rgba(60, 64, 67, 0.15);\n",
              "      fill: #174EA6;\n",
              "    }\n",
              "\n",
              "    .colab-df-buttons div {\n",
              "      margin-bottom: 4px;\n",
              "    }\n",
              "\n",
              "    [theme=dark] .colab-df-convert {\n",
              "      background-color: #3B4455;\n",
              "      fill: #D2E3FC;\n",
              "    }\n",
              "\n",
              "    [theme=dark] .colab-df-convert:hover {\n",
              "      background-color: #434B5C;\n",
              "      box-shadow: 0px 1px 3px 1px rgba(0, 0, 0, 0.15);\n",
              "      filter: drop-shadow(0px 1px 2px rgba(0, 0, 0, 0.3));\n",
              "      fill: #FFFFFF;\n",
              "    }\n",
              "  </style>\n",
              "\n",
              "    <script>\n",
              "      const buttonEl =\n",
              "        document.querySelector('#df-36225c0a-8e3f-4b2a-afc1-ed558b3a9fc5 button.colab-df-convert');\n",
              "      buttonEl.style.display =\n",
              "        google.colab.kernel.accessAllowed ? 'block' : 'none';\n",
              "\n",
              "      async function convertToInteractive(key) {\n",
              "        const element = document.querySelector('#df-36225c0a-8e3f-4b2a-afc1-ed558b3a9fc5');\n",
              "        const dataTable =\n",
              "          await google.colab.kernel.invokeFunction('convertToInteractive',\n",
              "                                                    [key], {});\n",
              "        if (!dataTable) return;\n",
              "\n",
              "        const docLinkHtml = 'Like what you see? Visit the ' +\n",
              "          '<a target=\"_blank\" href=https://colab.research.google.com/notebooks/data_table.ipynb>data table notebook</a>'\n",
              "          + ' to learn more about interactive tables.';\n",
              "        element.innerHTML = '';\n",
              "        dataTable['output_type'] = 'display_data';\n",
              "        await google.colab.output.renderOutput(dataTable, element);\n",
              "        const docLink = document.createElement('div');\n",
              "        docLink.innerHTML = docLinkHtml;\n",
              "        element.appendChild(docLink);\n",
              "      }\n",
              "    </script>\n",
              "  </div>\n",
              "\n",
              "\n",
              "<div id=\"df-868a86c9-db91-444f-bf20-90cae7043cfc\">\n",
              "  <button class=\"colab-df-quickchart\" onclick=\"quickchart('df-868a86c9-db91-444f-bf20-90cae7043cfc')\"\n",
              "            title=\"Suggest charts\"\n",
              "            style=\"display:none;\">\n",
              "\n",
              "<svg xmlns=\"http://www.w3.org/2000/svg\" height=\"24px\"viewBox=\"0 0 24 24\"\n",
              "     width=\"24px\">\n",
              "    <g>\n",
              "        <path d=\"M19 3H5c-1.1 0-2 .9-2 2v14c0 1.1.9 2 2 2h14c1.1 0 2-.9 2-2V5c0-1.1-.9-2-2-2zM9 17H7v-7h2v7zm4 0h-2V7h2v10zm4 0h-2v-4h2v4z\"/>\n",
              "    </g>\n",
              "</svg>\n",
              "  </button>\n",
              "\n",
              "<style>\n",
              "  .colab-df-quickchart {\n",
              "      --bg-color: #E8F0FE;\n",
              "      --fill-color: #1967D2;\n",
              "      --hover-bg-color: #E2EBFA;\n",
              "      --hover-fill-color: #174EA6;\n",
              "      --disabled-fill-color: #AAA;\n",
              "      --disabled-bg-color: #DDD;\n",
              "  }\n",
              "\n",
              "  [theme=dark] .colab-df-quickchart {\n",
              "      --bg-color: #3B4455;\n",
              "      --fill-color: #D2E3FC;\n",
              "      --hover-bg-color: #434B5C;\n",
              "      --hover-fill-color: #FFFFFF;\n",
              "      --disabled-bg-color: #3B4455;\n",
              "      --disabled-fill-color: #666;\n",
              "  }\n",
              "\n",
              "  .colab-df-quickchart {\n",
              "    background-color: var(--bg-color);\n",
              "    border: none;\n",
              "    border-radius: 50%;\n",
              "    cursor: pointer;\n",
              "    display: none;\n",
              "    fill: var(--fill-color);\n",
              "    height: 32px;\n",
              "    padding: 0;\n",
              "    width: 32px;\n",
              "  }\n",
              "\n",
              "  .colab-df-quickchart:hover {\n",
              "    background-color: var(--hover-bg-color);\n",
              "    box-shadow: 0 1px 2px rgba(60, 64, 67, 0.3), 0 1px 3px 1px rgba(60, 64, 67, 0.15);\n",
              "    fill: var(--button-hover-fill-color);\n",
              "  }\n",
              "\n",
              "  .colab-df-quickchart-complete:disabled,\n",
              "  .colab-df-quickchart-complete:disabled:hover {\n",
              "    background-color: var(--disabled-bg-color);\n",
              "    fill: var(--disabled-fill-color);\n",
              "    box-shadow: none;\n",
              "  }\n",
              "\n",
              "  .colab-df-spinner {\n",
              "    border: 2px solid var(--fill-color);\n",
              "    border-color: transparent;\n",
              "    border-bottom-color: var(--fill-color);\n",
              "    animation:\n",
              "      spin 1s steps(1) infinite;\n",
              "  }\n",
              "\n",
              "  @keyframes spin {\n",
              "    0% {\n",
              "      border-color: transparent;\n",
              "      border-bottom-color: var(--fill-color);\n",
              "      border-left-color: var(--fill-color);\n",
              "    }\n",
              "    20% {\n",
              "      border-color: transparent;\n",
              "      border-left-color: var(--fill-color);\n",
              "      border-top-color: var(--fill-color);\n",
              "    }\n",
              "    30% {\n",
              "      border-color: transparent;\n",
              "      border-left-color: var(--fill-color);\n",
              "      border-top-color: var(--fill-color);\n",
              "      border-right-color: var(--fill-color);\n",
              "    }\n",
              "    40% {\n",
              "      border-color: transparent;\n",
              "      border-right-color: var(--fill-color);\n",
              "      border-top-color: var(--fill-color);\n",
              "    }\n",
              "    60% {\n",
              "      border-color: transparent;\n",
              "      border-right-color: var(--fill-color);\n",
              "    }\n",
              "    80% {\n",
              "      border-color: transparent;\n",
              "      border-right-color: var(--fill-color);\n",
              "      border-bottom-color: var(--fill-color);\n",
              "    }\n",
              "    90% {\n",
              "      border-color: transparent;\n",
              "      border-bottom-color: var(--fill-color);\n",
              "    }\n",
              "  }\n",
              "</style>\n",
              "\n",
              "  <script>\n",
              "    async function quickchart(key) {\n",
              "      const quickchartButtonEl =\n",
              "        document.querySelector('#' + key + ' button');\n",
              "      quickchartButtonEl.disabled = true;  // To prevent multiple clicks.\n",
              "      quickchartButtonEl.classList.add('colab-df-spinner');\n",
              "      try {\n",
              "        const charts = await google.colab.kernel.invokeFunction(\n",
              "            'suggestCharts', [key], {});\n",
              "      } catch (error) {\n",
              "        console.error('Error during call to suggestCharts:', error);\n",
              "      }\n",
              "      quickchartButtonEl.classList.remove('colab-df-spinner');\n",
              "      quickchartButtonEl.classList.add('colab-df-quickchart-complete');\n",
              "    }\n",
              "    (() => {\n",
              "      let quickchartButtonEl =\n",
              "        document.querySelector('#df-868a86c9-db91-444f-bf20-90cae7043cfc button');\n",
              "      quickchartButtonEl.style.display =\n",
              "        google.colab.kernel.accessAllowed ? 'block' : 'none';\n",
              "    })();\n",
              "  </script>\n",
              "</div>\n",
              "\n",
              "    </div>\n",
              "  </div>\n"
            ]
          },
          "metadata": {},
          "execution_count": 7
        }
      ]
    },
    {
      "cell_type": "code",
      "source": [
        "# トレインデータとテストデータを縦に統合（スタック）\n",
        "combined_data = pd.concat([train_df, test_df], axis=0)"
      ],
      "metadata": {
        "id": "577_gwpEaoxe"
      },
      "execution_count": null,
      "outputs": []
    },
    {
      "cell_type": "code",
      "source": [
        "# NaN値を各列の平均値で埋める\n",
        "combined_data_filled = combined_data.fillna(combined_data.mean())"
      ],
      "metadata": {
        "id": "_u35FWAktGaT"
      },
      "execution_count": null,
      "outputs": []
    },
    {
      "cell_type": "code",
      "source": [
        "# 無限値をチェックし、存在する場合は置換\n",
        "combined_data_cleaned = combined_data_filled.replace([np.inf, -np.inf], np.nan).fillna(combined_data_filled.mean())"
      ],
      "metadata": {
        "id": "OO90WVR1tILu"
      },
      "execution_count": null,
      "outputs": []
    },
    {
      "cell_type": "code",
      "source": [
        "# データを特徴量(X)とターゲット(y)に分割\n",
        "X = combined_data_cleaned.drop(combined_data_cleaned.columns[0], axis=1)\n",
        "y = combined_data_cleaned[combined_data_cleaned.columns[0]]"
      ],
      "metadata": {
        "id": "GaeMYrDSgCl4"
      },
      "execution_count": null,
      "outputs": []
    },
    {
      "cell_type": "code",
      "source": [
        "# データを訓練用とテスト用に7:3の比率で分割\n",
        "X_train, X_test, y_train, y_test = train_test_split(X, y, test_size=0.3, random_state=42)"
      ],
      "metadata": {
        "id": "WL07VikAjs9h"
      },
      "execution_count": null,
      "outputs": []
    },
    {
      "cell_type": "code",
      "source": [
        "# 訓練データ内で正常と異常のクラスを分離し、異常クラスのアップサンプリングを行う\n",
        "df_train = pd.concat([X_train, y_train], axis=1)\n",
        "df_normal_train = df_train[df_train[df_train.columns[-1]] == 1]\n",
        "df_anomaly_train = df_train[df_train[df_train.columns[-1]] == -1]\n",
        "\n",
        "df_anomaly_upsampled = resample(df_anomaly_train, replace=True, n_samples=len(df_normal_train), random_state=123)\n",
        "df_upsampled_train = pd.concat([df_normal_train, df_anomaly_upsampled])"
      ],
      "metadata": {
        "id": "T6hpz7pZjyEs"
      },
      "execution_count": null,
      "outputs": []
    },
    {
      "cell_type": "code",
      "source": [
        "# アップサンプリングされたデータを特徴量(X)とターゲット(y)に分割\n",
        "X_train_upsampled = df_upsampled_train.drop(df_upsampled_train.columns[-1], axis=1)\n",
        "y_train_upsampled = df_upsampled_train[df_upsampled_train.columns[-1]]"
      ],
      "metadata": {
        "id": "cuxgTjj3j2gj"
      },
      "execution_count": null,
      "outputs": []
    },
    {
      "cell_type": "code",
      "source": [
        "# ロジスティック回帰モデルの初期化\n",
        "\n",
        "logreg = LogisticRegression(max_iter=1000)"
      ],
      "metadata": {
        "id": "2pILcHKoh1-O"
      },
      "execution_count": null,
      "outputs": []
    },
    {
      "cell_type": "code",
      "source": [
        "def train_model(X, y):\n",
        "    model = LogisticRegression(max_iter=1000)\n",
        "    model.fit(X, y)\n",
        "    return model\n",
        "\n",
        "# ロジスティック回帰モデルの初期化と訓練\n",
        "logreg_model = train_model(X_train_upsampled, y_train_upsampled)"
      ],
      "metadata": {
        "id": "S4nABNmQtVFu"
      },
      "execution_count": null,
      "outputs": []
    },
    {
      "cell_type": "code",
      "source": [
        "# 訓練データでモデルを訓練\n",
        "\n",
        "logreg.fit(X_train_upsampled, y_train_upsampled)"
      ],
      "metadata": {
        "colab": {
          "base_uri": "https://localhost:8080/",
          "height": 75
        },
        "id": "VFX7G7-xh5JY",
        "outputId": "cef120b6-377c-4a74-b841-2bd791707f3d"
      },
      "execution_count": null,
      "outputs": [
        {
          "output_type": "execute_result",
          "data": {
            "text/plain": [
              "LogisticRegression(max_iter=1000)"
            ],
            "text/html": [
              "<style>#sk-container-id-2 {color: black;background-color: white;}#sk-container-id-2 pre{padding: 0;}#sk-container-id-2 div.sk-toggleable {background-color: white;}#sk-container-id-2 label.sk-toggleable__label {cursor: pointer;display: block;width: 100%;margin-bottom: 0;padding: 0.3em;box-sizing: border-box;text-align: center;}#sk-container-id-2 label.sk-toggleable__label-arrow:before {content: \"▸\";float: left;margin-right: 0.25em;color: #696969;}#sk-container-id-2 label.sk-toggleable__label-arrow:hover:before {color: black;}#sk-container-id-2 div.sk-estimator:hover label.sk-toggleable__label-arrow:before {color: black;}#sk-container-id-2 div.sk-toggleable__content {max-height: 0;max-width: 0;overflow: hidden;text-align: left;background-color: #f0f8ff;}#sk-container-id-2 div.sk-toggleable__content pre {margin: 0.2em;color: black;border-radius: 0.25em;background-color: #f0f8ff;}#sk-container-id-2 input.sk-toggleable__control:checked~div.sk-toggleable__content {max-height: 200px;max-width: 100%;overflow: auto;}#sk-container-id-2 input.sk-toggleable__control:checked~label.sk-toggleable__label-arrow:before {content: \"▾\";}#sk-container-id-2 div.sk-estimator input.sk-toggleable__control:checked~label.sk-toggleable__label {background-color: #d4ebff;}#sk-container-id-2 div.sk-label input.sk-toggleable__control:checked~label.sk-toggleable__label {background-color: #d4ebff;}#sk-container-id-2 input.sk-hidden--visually {border: 0;clip: rect(1px 1px 1px 1px);clip: rect(1px, 1px, 1px, 1px);height: 1px;margin: -1px;overflow: hidden;padding: 0;position: absolute;width: 1px;}#sk-container-id-2 div.sk-estimator {font-family: monospace;background-color: #f0f8ff;border: 1px dotted black;border-radius: 0.25em;box-sizing: border-box;margin-bottom: 0.5em;}#sk-container-id-2 div.sk-estimator:hover {background-color: #d4ebff;}#sk-container-id-2 div.sk-parallel-item::after {content: \"\";width: 100%;border-bottom: 1px solid gray;flex-grow: 1;}#sk-container-id-2 div.sk-label:hover label.sk-toggleable__label {background-color: #d4ebff;}#sk-container-id-2 div.sk-serial::before {content: \"\";position: absolute;border-left: 1px solid gray;box-sizing: border-box;top: 0;bottom: 0;left: 50%;z-index: 0;}#sk-container-id-2 div.sk-serial {display: flex;flex-direction: column;align-items: center;background-color: white;padding-right: 0.2em;padding-left: 0.2em;position: relative;}#sk-container-id-2 div.sk-item {position: relative;z-index: 1;}#sk-container-id-2 div.sk-parallel {display: flex;align-items: stretch;justify-content: center;background-color: white;position: relative;}#sk-container-id-2 div.sk-item::before, #sk-container-id-2 div.sk-parallel-item::before {content: \"\";position: absolute;border-left: 1px solid gray;box-sizing: border-box;top: 0;bottom: 0;left: 50%;z-index: -1;}#sk-container-id-2 div.sk-parallel-item {display: flex;flex-direction: column;z-index: 1;position: relative;background-color: white;}#sk-container-id-2 div.sk-parallel-item:first-child::after {align-self: flex-end;width: 50%;}#sk-container-id-2 div.sk-parallel-item:last-child::after {align-self: flex-start;width: 50%;}#sk-container-id-2 div.sk-parallel-item:only-child::after {width: 0;}#sk-container-id-2 div.sk-dashed-wrapped {border: 1px dashed gray;margin: 0 0.4em 0.5em 0.4em;box-sizing: border-box;padding-bottom: 0.4em;background-color: white;}#sk-container-id-2 div.sk-label label {font-family: monospace;font-weight: bold;display: inline-block;line-height: 1.2em;}#sk-container-id-2 div.sk-label-container {text-align: center;}#sk-container-id-2 div.sk-container {/* jupyter's `normalize.less` sets `[hidden] { display: none; }` but bootstrap.min.css set `[hidden] { display: none !important; }` so we also need the `!important` here to be able to override the default hidden behavior on the sphinx rendered scikit-learn.org. See: https://github.com/scikit-learn/scikit-learn/issues/21755 */display: inline-block !important;position: relative;}#sk-container-id-2 div.sk-text-repr-fallback {display: none;}</style><div id=\"sk-container-id-2\" class=\"sk-top-container\"><div class=\"sk-text-repr-fallback\"><pre>LogisticRegression(max_iter=1000)</pre><b>In a Jupyter environment, please rerun this cell to show the HTML representation or trust the notebook. <br />On GitHub, the HTML representation is unable to render, please try loading this page with nbviewer.org.</b></div><div class=\"sk-container\" hidden><div class=\"sk-item\"><div class=\"sk-estimator sk-toggleable\"><input class=\"sk-toggleable__control sk-hidden--visually\" id=\"sk-estimator-id-2\" type=\"checkbox\" checked><label for=\"sk-estimator-id-2\" class=\"sk-toggleable__label sk-toggleable__label-arrow\">LogisticRegression</label><div class=\"sk-toggleable__content\"><pre>LogisticRegression(max_iter=1000)</pre></div></div></div></div></div>"
            ]
          },
          "metadata": {},
          "execution_count": 22
        }
      ]
    },
    {
      "cell_type": "code",
      "source": [
        "# テストデータでの予測\n",
        "y_pred = logreg.predict(X_test)"
      ],
      "metadata": {
        "id": "Ej23IDoAh_D7"
      },
      "execution_count": null,
      "outputs": []
    },
    {
      "cell_type": "code",
      "source": [
        "# 正確さ（Accuracy）とF1スコアの計算\n",
        "accuracy = accuracy_score(y_test, y_pred)\n",
        "macro_f1 = f1_score(y_test, y_pred, average='macro')\n",
        "weighted_f1 = f1_score(y_test, y_pred, average='weighted')\n",
        "\n",
        "accuracy, macro_f1, weighted_f1"
      ],
      "metadata": {
        "colab": {
          "base_uri": "https://localhost:8080/"
        },
        "id": "uHoq-OZqiHJV",
        "outputId": "2e2e8d23-0b2d-4043-f429-a08f66d717e2"
      },
      "execution_count": null,
      "outputs": [
        {
          "output_type": "execute_result",
          "data": {
            "text/plain": [
              "(0.8944186046511627, 0.7880780956425417, 0.9080340998952081)"
            ]
          },
          "metadata": {},
          "execution_count": 24
        }
      ]
    },
    {
      "cell_type": "markdown",
      "source": [
        "    テストデータの結果は…\n",
        "    正確さ（Accuracy）: 0.89\n",
        "    マクロ平均F1スコア: 0.79\n",
        "    重み付き平均F1スコア: 0.91"
      ],
      "metadata": {
        "id": "qgFF-AVDWfJF"
      }
    },
    {
      "cell_type": "markdown",
      "source": [
        "↓↓過学習していないかチェックを行う。↓↓"
      ],
      "metadata": {
        "id": "AW0fAZW-jXXu"
      }
    },
    {
      "cell_type": "code",
      "source": [
        "# 訓練データでの予測\n",
        "y_train_pred = logreg.predict(X_train_upsampled)"
      ],
      "metadata": {
        "id": "TRRttHskjVjV"
      },
      "execution_count": null,
      "outputs": []
    },
    {
      "cell_type": "code",
      "source": [
        "# 訓練データの性能指標を計算\n",
        "train_accuracy = accuracy_score(y_train_upsampled, y_train_pred)\n",
        "train_macro_f1 = f1_score(y_train_upsampled, y_train_pred, average='macro')\n",
        "train_weighted_f1 = f1_score(y_train_upsampled, y_train_pred, average='weighted')"
      ],
      "metadata": {
        "id": "Bheg6zsrjvUD"
      },
      "execution_count": null,
      "outputs": []
    },
    {
      "cell_type": "code",
      "source": [
        "# テストデータでの性能指標は既に計算されている\n",
        "train_accuracy, train_macro_f1, train_weighted_f1, accuracy, macro_f1, weighted_f1"
      ],
      "metadata": {
        "colab": {
          "base_uri": "https://localhost:8080/"
        },
        "id": "gQfjZJ8Lj0yd",
        "outputId": "28d2fe8c-029d-4986-83ad-47abf7560b83"
      },
      "execution_count": null,
      "outputs": [
        {
          "output_type": "execute_result",
          "data": {
            "text/plain": [
              "(0.9090196956132498,\n",
              " 0.9089789783111548,\n",
              " 0.9089789783111548,\n",
              " 0.8944186046511627,\n",
              " 0.7880780956425417,\n",
              " 0.9080340998952081)"
            ]
          },
          "metadata": {},
          "execution_count": 27
        }
      ]
    },
    {
      "cell_type": "markdown",
      "source": [
        "    訓練データの結果は…\n",
        "    正確さ（Accuracy）: 0.91\n",
        "    マクロ平均F1スコア: 0.91\n",
        "    重み付き平均F1スコア: 0.91\n",
        "\n",
        "    テストデータの結果は…\n",
        "    正確さ（Accuracy）: 0.89\n",
        "    マクロ平均F1スコア: 0.79\n",
        "    重み付き平均F1スコア: 0.90"
      ],
      "metadata": {
        "id": "kpw1eJ-ej_YM"
      }
    },
    {
      "cell_type": "markdown",
      "source": [
        "以下はベストなハイパーパラメーターを探すため、RandomizedSearchCVのライブラリを利用してみる。"
      ],
      "metadata": {
        "id": "TbJe6nMjo-4Y"
      }
    },
    {
      "cell_type": "code",
      "source": [
        "from sklearn.model_selection import RandomizedSearchCV"
      ],
      "metadata": {
        "id": "X6vYpAKopFrx"
      },
      "execution_count": null,
      "outputs": []
    },
    {
      "cell_type": "code",
      "source": [
        "# ハイパーパラメーターの範囲を指定\n",
        "param_dist = {\n",
        "    'C': np.logspace(np.log10(2900), np.log10(3500), 7),\n",
        "    'solver': ['liblinear', 'saga']\n",
        "}\n",
        "\n",
        "# モデルの初期化\n",
        "logreg = LogisticRegression()\n",
        "\n",
        "# RandomizedSearchCVを設定\n",
        "random_search = RandomizedSearchCV(logreg, param_distributions=param_dist, n_iter=10, cv=5, scoring='accuracy')\n",
        "\n",
        "# ハイパーパラメーターチューニングを実行\n",
        "# X と y はトレーニングデータとラベルです\n",
        "random_search.fit(X, y)\n",
        "\n",
        "# 最適なハイパーパラメーターを表示\n",
        "print(\"Best hyperparameters:\", random_search.best_params_)"
      ],
      "metadata": {
        "colab": {
          "base_uri": "https://localhost:8080/"
        },
        "id": "otZ2SLYTqk0F",
        "outputId": "7b885747-c6ce-4767-c712-7b1d64858fbc"
      },
      "execution_count": null,
      "outputs": [
        {
          "output_type": "stream",
          "name": "stderr",
          "text": [
            "/usr/local/lib/python3.10/dist-packages/sklearn/linear_model/_sag.py:350: ConvergenceWarning: The max_iter was reached which means the coef_ did not converge\n",
            "  warnings.warn(\n",
            "/usr/local/lib/python3.10/dist-packages/sklearn/linear_model/_sag.py:350: ConvergenceWarning: The max_iter was reached which means the coef_ did not converge\n",
            "  warnings.warn(\n",
            "/usr/local/lib/python3.10/dist-packages/sklearn/linear_model/_sag.py:350: ConvergenceWarning: The max_iter was reached which means the coef_ did not converge\n",
            "  warnings.warn(\n",
            "/usr/local/lib/python3.10/dist-packages/sklearn/linear_model/_sag.py:350: ConvergenceWarning: The max_iter was reached which means the coef_ did not converge\n",
            "  warnings.warn(\n",
            "/usr/local/lib/python3.10/dist-packages/sklearn/linear_model/_sag.py:350: ConvergenceWarning: The max_iter was reached which means the coef_ did not converge\n",
            "  warnings.warn(\n",
            "/usr/local/lib/python3.10/dist-packages/sklearn/linear_model/_sag.py:350: ConvergenceWarning: The max_iter was reached which means the coef_ did not converge\n",
            "  warnings.warn(\n",
            "/usr/local/lib/python3.10/dist-packages/sklearn/linear_model/_sag.py:350: ConvergenceWarning: The max_iter was reached which means the coef_ did not converge\n",
            "  warnings.warn(\n",
            "/usr/local/lib/python3.10/dist-packages/sklearn/linear_model/_sag.py:350: ConvergenceWarning: The max_iter was reached which means the coef_ did not converge\n",
            "  warnings.warn(\n",
            "/usr/local/lib/python3.10/dist-packages/sklearn/linear_model/_sag.py:350: ConvergenceWarning: The max_iter was reached which means the coef_ did not converge\n",
            "  warnings.warn(\n",
            "/usr/local/lib/python3.10/dist-packages/sklearn/linear_model/_sag.py:350: ConvergenceWarning: The max_iter was reached which means the coef_ did not converge\n",
            "  warnings.warn(\n",
            "/usr/local/lib/python3.10/dist-packages/sklearn/linear_model/_sag.py:350: ConvergenceWarning: The max_iter was reached which means the coef_ did not converge\n",
            "  warnings.warn(\n",
            "/usr/local/lib/python3.10/dist-packages/sklearn/linear_model/_sag.py:350: ConvergenceWarning: The max_iter was reached which means the coef_ did not converge\n",
            "  warnings.warn(\n",
            "/usr/local/lib/python3.10/dist-packages/sklearn/linear_model/_sag.py:350: ConvergenceWarning: The max_iter was reached which means the coef_ did not converge\n",
            "  warnings.warn(\n",
            "/usr/local/lib/python3.10/dist-packages/sklearn/linear_model/_sag.py:350: ConvergenceWarning: The max_iter was reached which means the coef_ did not converge\n",
            "  warnings.warn(\n",
            "/usr/local/lib/python3.10/dist-packages/sklearn/linear_model/_sag.py:350: ConvergenceWarning: The max_iter was reached which means the coef_ did not converge\n",
            "  warnings.warn(\n",
            "/usr/local/lib/python3.10/dist-packages/sklearn/linear_model/_sag.py:350: ConvergenceWarning: The max_iter was reached which means the coef_ did not converge\n",
            "  warnings.warn(\n",
            "/usr/local/lib/python3.10/dist-packages/sklearn/linear_model/_sag.py:350: ConvergenceWarning: The max_iter was reached which means the coef_ did not converge\n",
            "  warnings.warn(\n",
            "/usr/local/lib/python3.10/dist-packages/sklearn/linear_model/_sag.py:350: ConvergenceWarning: The max_iter was reached which means the coef_ did not converge\n",
            "  warnings.warn(\n",
            "/usr/local/lib/python3.10/dist-packages/sklearn/linear_model/_sag.py:350: ConvergenceWarning: The max_iter was reached which means the coef_ did not converge\n",
            "  warnings.warn(\n",
            "/usr/local/lib/python3.10/dist-packages/sklearn/linear_model/_sag.py:350: ConvergenceWarning: The max_iter was reached which means the coef_ did not converge\n",
            "  warnings.warn(\n",
            "/usr/local/lib/python3.10/dist-packages/sklearn/linear_model/_sag.py:350: ConvergenceWarning: The max_iter was reached which means the coef_ did not converge\n",
            "  warnings.warn(\n",
            "/usr/local/lib/python3.10/dist-packages/sklearn/linear_model/_sag.py:350: ConvergenceWarning: The max_iter was reached which means the coef_ did not converge\n",
            "  warnings.warn(\n",
            "/usr/local/lib/python3.10/dist-packages/sklearn/linear_model/_sag.py:350: ConvergenceWarning: The max_iter was reached which means the coef_ did not converge\n",
            "  warnings.warn(\n",
            "/usr/local/lib/python3.10/dist-packages/sklearn/linear_model/_sag.py:350: ConvergenceWarning: The max_iter was reached which means the coef_ did not converge\n",
            "  warnings.warn(\n",
            "/usr/local/lib/python3.10/dist-packages/sklearn/linear_model/_sag.py:350: ConvergenceWarning: The max_iter was reached which means the coef_ did not converge\n",
            "  warnings.warn(\n",
            "/usr/local/lib/python3.10/dist-packages/sklearn/linear_model/_sag.py:350: ConvergenceWarning: The max_iter was reached which means the coef_ did not converge\n",
            "  warnings.warn(\n",
            "/usr/local/lib/python3.10/dist-packages/sklearn/linear_model/_sag.py:350: ConvergenceWarning: The max_iter was reached which means the coef_ did not converge\n",
            "  warnings.warn(\n",
            "/usr/local/lib/python3.10/dist-packages/sklearn/linear_model/_sag.py:350: ConvergenceWarning: The max_iter was reached which means the coef_ did not converge\n",
            "  warnings.warn(\n",
            "/usr/local/lib/python3.10/dist-packages/sklearn/linear_model/_sag.py:350: ConvergenceWarning: The max_iter was reached which means the coef_ did not converge\n",
            "  warnings.warn(\n",
            "/usr/local/lib/python3.10/dist-packages/sklearn/linear_model/_sag.py:350: ConvergenceWarning: The max_iter was reached which means the coef_ did not converge\n",
            "  warnings.warn(\n"
          ]
        },
        {
          "output_type": "stream",
          "name": "stdout",
          "text": [
            "Best hyperparameters: {'solver': 'liblinear', 'C': 2992.331279006868}\n"
          ]
        }
      ]
    },
    {
      "cell_type": "markdown",
      "source": [
        "    RandomizedSearchCVのパラメーターのチューニングの結果、「2992」が最適であるという結果に。\n",
        "    再度、訓練を行ってみる。"
      ],
      "metadata": {
        "id": "c9pBtrKkx_fS"
      }
    },
    {
      "cell_type": "code",
      "source": [
        "# ロジスティック回帰モデルの初期化\n",
        "logreg = LogisticRegression(max_iter=2992)"
      ],
      "metadata": {
        "id": "uTvYxwUNyXso"
      },
      "execution_count": null,
      "outputs": []
    },
    {
      "cell_type": "code",
      "source": [
        "# 訓練データでモデルを訓練\n",
        "logreg.fit(X_train_upsampled, y_train_upsampled)"
      ],
      "metadata": {
        "id": "g9HEfpgrzN-O",
        "colab": {
          "base_uri": "https://localhost:8080/",
          "height": 75
        },
        "outputId": "727e4326-9b67-4e96-8425-f72715c658e5"
      },
      "execution_count": null,
      "outputs": [
        {
          "output_type": "execute_result",
          "data": {
            "text/plain": [
              "LogisticRegression(max_iter=2992)"
            ],
            "text/html": [
              "<style>#sk-container-id-5 {color: black;background-color: white;}#sk-container-id-5 pre{padding: 0;}#sk-container-id-5 div.sk-toggleable {background-color: white;}#sk-container-id-5 label.sk-toggleable__label {cursor: pointer;display: block;width: 100%;margin-bottom: 0;padding: 0.3em;box-sizing: border-box;text-align: center;}#sk-container-id-5 label.sk-toggleable__label-arrow:before {content: \"▸\";float: left;margin-right: 0.25em;color: #696969;}#sk-container-id-5 label.sk-toggleable__label-arrow:hover:before {color: black;}#sk-container-id-5 div.sk-estimator:hover label.sk-toggleable__label-arrow:before {color: black;}#sk-container-id-5 div.sk-toggleable__content {max-height: 0;max-width: 0;overflow: hidden;text-align: left;background-color: #f0f8ff;}#sk-container-id-5 div.sk-toggleable__content pre {margin: 0.2em;color: black;border-radius: 0.25em;background-color: #f0f8ff;}#sk-container-id-5 input.sk-toggleable__control:checked~div.sk-toggleable__content {max-height: 200px;max-width: 100%;overflow: auto;}#sk-container-id-5 input.sk-toggleable__control:checked~label.sk-toggleable__label-arrow:before {content: \"▾\";}#sk-container-id-5 div.sk-estimator input.sk-toggleable__control:checked~label.sk-toggleable__label {background-color: #d4ebff;}#sk-container-id-5 div.sk-label input.sk-toggleable__control:checked~label.sk-toggleable__label {background-color: #d4ebff;}#sk-container-id-5 input.sk-hidden--visually {border: 0;clip: rect(1px 1px 1px 1px);clip: rect(1px, 1px, 1px, 1px);height: 1px;margin: -1px;overflow: hidden;padding: 0;position: absolute;width: 1px;}#sk-container-id-5 div.sk-estimator {font-family: monospace;background-color: #f0f8ff;border: 1px dotted black;border-radius: 0.25em;box-sizing: border-box;margin-bottom: 0.5em;}#sk-container-id-5 div.sk-estimator:hover {background-color: #d4ebff;}#sk-container-id-5 div.sk-parallel-item::after {content: \"\";width: 100%;border-bottom: 1px solid gray;flex-grow: 1;}#sk-container-id-5 div.sk-label:hover label.sk-toggleable__label {background-color: #d4ebff;}#sk-container-id-5 div.sk-serial::before {content: \"\";position: absolute;border-left: 1px solid gray;box-sizing: border-box;top: 0;bottom: 0;left: 50%;z-index: 0;}#sk-container-id-5 div.sk-serial {display: flex;flex-direction: column;align-items: center;background-color: white;padding-right: 0.2em;padding-left: 0.2em;position: relative;}#sk-container-id-5 div.sk-item {position: relative;z-index: 1;}#sk-container-id-5 div.sk-parallel {display: flex;align-items: stretch;justify-content: center;background-color: white;position: relative;}#sk-container-id-5 div.sk-item::before, #sk-container-id-5 div.sk-parallel-item::before {content: \"\";position: absolute;border-left: 1px solid gray;box-sizing: border-box;top: 0;bottom: 0;left: 50%;z-index: -1;}#sk-container-id-5 div.sk-parallel-item {display: flex;flex-direction: column;z-index: 1;position: relative;background-color: white;}#sk-container-id-5 div.sk-parallel-item:first-child::after {align-self: flex-end;width: 50%;}#sk-container-id-5 div.sk-parallel-item:last-child::after {align-self: flex-start;width: 50%;}#sk-container-id-5 div.sk-parallel-item:only-child::after {width: 0;}#sk-container-id-5 div.sk-dashed-wrapped {border: 1px dashed gray;margin: 0 0.4em 0.5em 0.4em;box-sizing: border-box;padding-bottom: 0.4em;background-color: white;}#sk-container-id-5 div.sk-label label {font-family: monospace;font-weight: bold;display: inline-block;line-height: 1.2em;}#sk-container-id-5 div.sk-label-container {text-align: center;}#sk-container-id-5 div.sk-container {/* jupyter's `normalize.less` sets `[hidden] { display: none; }` but bootstrap.min.css set `[hidden] { display: none !important; }` so we also need the `!important` here to be able to override the default hidden behavior on the sphinx rendered scikit-learn.org. See: https://github.com/scikit-learn/scikit-learn/issues/21755 */display: inline-block !important;position: relative;}#sk-container-id-5 div.sk-text-repr-fallback {display: none;}</style><div id=\"sk-container-id-5\" class=\"sk-top-container\"><div class=\"sk-text-repr-fallback\"><pre>LogisticRegression(max_iter=2992)</pre><b>In a Jupyter environment, please rerun this cell to show the HTML representation or trust the notebook. <br />On GitHub, the HTML representation is unable to render, please try loading this page with nbviewer.org.</b></div><div class=\"sk-container\" hidden><div class=\"sk-item\"><div class=\"sk-estimator sk-toggleable\"><input class=\"sk-toggleable__control sk-hidden--visually\" id=\"sk-estimator-id-5\" type=\"checkbox\" checked><label for=\"sk-estimator-id-5\" class=\"sk-toggleable__label sk-toggleable__label-arrow\">LogisticRegression</label><div class=\"sk-toggleable__content\"><pre>LogisticRegression(max_iter=2992)</pre></div></div></div></div></div>"
            ]
          },
          "metadata": {},
          "execution_count": 39
        }
      ]
    },
    {
      "cell_type": "code",
      "source": [
        "# テストデータでの予測\n",
        "y_pred = logreg.predict(X_test)"
      ],
      "metadata": {
        "id": "mDP9NQv0zQs_"
      },
      "execution_count": null,
      "outputs": []
    },
    {
      "cell_type": "code",
      "source": [
        "# 正確さ（Accuracy）とF1スコアの計算\n",
        "accuracy = accuracy_score(y_test, y_pred)\n",
        "macro_f1 = f1_score(y_test, y_pred, average='macro')\n",
        "weighted_f1 = f1_score(y_test, y_pred, average='weighted')\n",
        "\n",
        "accuracy, macro_f1, weighted_f1"
      ],
      "metadata": {
        "id": "1_mLShnmzVFR",
        "colab": {
          "base_uri": "https://localhost:8080/"
        },
        "outputId": "4cf94585-7334-4f0f-83cd-37195f0125e6"
      },
      "execution_count": null,
      "outputs": [
        {
          "output_type": "execute_result",
          "data": {
            "text/plain": [
              "(0.8944186046511627, 0.7880780956425417, 0.9080340998952081)"
            ]
          },
          "metadata": {},
          "execution_count": 41
        }
      ]
    },
    {
      "cell_type": "markdown",
      "source": [
        "劇的な変化は見受けられなかった。"
      ],
      "metadata": {
        "id": "P68Wazg_ziMl"
      }
    }
  ]
}