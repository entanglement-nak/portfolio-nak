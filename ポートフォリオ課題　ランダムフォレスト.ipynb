{
  "cells": [
    {
      "cell_type": "markdown",
      "metadata": {
        "id": "view-in-github",
        "colab_type": "text"
      },
      "source": [
        "<a href=\"https://colab.research.google.com/github/entanglement-nak/portfolio-nak/blob/main/%E3%83%9D%E3%83%BC%E3%83%88%E3%83%95%E3%82%A9%E3%83%AA%E3%82%AA%E8%AA%B2%E9%A1%8C%E3%80%80%E3%83%A9%E3%83%B3%E3%83%80%E3%83%A0%E3%83%95%E3%82%A9%E3%83%AC%E3%82%B9%E3%83%88.ipynb\" target=\"_parent\"><img src=\"https://colab.research.google.com/assets/colab-badge.svg\" alt=\"Open In Colab\"/></a>"
      ]
    },
    {
      "cell_type": "code",
      "execution_count": 20,
      "metadata": {
        "id": "YbMVvJ_U-qqv"
      },
      "outputs": [],
      "source": [
        "import pandas as pd\n",
        "import numpy as np\n",
        "from sklearn.ensemble import RandomForestClassifier\n",
        "from sklearn.metrics import classification_report, accuracy_score\n",
        "from sklearn.metrics import matthews_corrcoef\n",
        "from sklearn.metrics import f1_score\n",
        "from sklearn.model_selection import train_test_split\n",
        "from sklearn.utils import resample"
      ]
    },
    {
      "cell_type": "code",
      "execution_count": 21,
      "metadata": {
        "id": "CTqJ7Xhd-3aK",
        "colab": {
          "base_uri": "https://localhost:8080/"
        },
        "outputId": "6a12343e-d64b-40a9-df96-c57230a62bfe"
      },
      "outputs": [
        {
          "output_type": "stream",
          "name": "stdout",
          "text": [
            "Drive already mounted at /content/drive; to attempt to forcibly remount, call drive.mount(\"/content/drive\", force_remount=True).\n"
          ]
        }
      ],
      "source": [
        "from google.colab import drive\n",
        "drive.mount('/content/drive')"
      ]
    },
    {
      "cell_type": "code",
      "execution_count": 22,
      "metadata": {
        "id": "ySX2ISG4-9we"
      },
      "outputs": [],
      "source": [
        "# データパス\n",
        "train_path = r\"/content/drive/MyDrive/Wafer/Wafer_TRAIN.xlsx\"\n",
        "\n",
        "test_path = r\"/content/drive/MyDrive/Wafer/Wafer_TEST.xlsx\""
      ]
    },
    {
      "cell_type": "code",
      "execution_count": 23,
      "metadata": {
        "id": "sNOC2NQK-_wl"
      },
      "outputs": [],
      "source": [
        "train_df = pd.read_excel(train_path, header=None)\n",
        "\n",
        "test_df = pd.read_excel(test_path, header=None)"
      ]
    },
    {
      "cell_type": "code",
      "execution_count": 24,
      "metadata": {
        "id": "ApCq56o__BUP"
      },
      "outputs": [],
      "source": [
        "# トレインデータとテストデータを縦に統合（スタック）\n",
        "combined_data = pd.concat([train_df, test_df], axis=0)"
      ]
    },
    {
      "cell_type": "code",
      "execution_count": 25,
      "metadata": {
        "id": "fqLYMzaE_CyY"
      },
      "outputs": [],
      "source": [
        "# データを特徴量(X)とターゲット(y)に分割\n",
        "X = combined_data.drop(combined_data.columns[0], axis=1)\n",
        "y = combined_data[combined_data.columns[0]]"
      ]
    },
    {
      "cell_type": "code",
      "execution_count": 26,
      "metadata": {
        "id": "oQIG-qkio9In"
      },
      "outputs": [],
      "source": [
        "# データを訓練用とテスト用に7:3の比率で分割\n",
        "X_train, X_test, y_train, y_test = train_test_split(X, y, test_size=0.3, random_state=42)"
      ]
    },
    {
      "cell_type": "code",
      "execution_count": 27,
      "metadata": {
        "id": "bmgFZO43o_U-"
      },
      "outputs": [],
      "source": [
        "# 訓練データ内で正常と異常のクラスを分離し、異常クラスのアップサンプリングを行う\n",
        "df_train = pd.concat([X_train, y_train], axis=1)\n",
        "df_normal_train = df_train[df_train[df_train.columns[-1]] == 1]\n",
        "df_anomaly_train = df_train[df_train[df_train.columns[-1]] == -1]\n",
        "\n",
        "df_anomaly_upsampled = resample(df_anomaly_train, replace=True, n_samples=len(df_normal_train), random_state=123)\n",
        "df_upsampled_train = pd.concat([df_normal_train, df_anomaly_upsampled])"
      ]
    },
    {
      "cell_type": "code",
      "execution_count": 28,
      "metadata": {
        "id": "wC29AtoZpB5I"
      },
      "outputs": [],
      "source": [
        "# アップサンプリングされたデータを特徴量(X)とターゲット(y)に分割\n",
        "X_train_upsampled = df_upsampled_train.drop(df_upsampled_train.columns[-1], axis=1)\n",
        "y_train_upsampled = df_upsampled_train[df_upsampled_train.columns[-1]]"
      ]
    },
    {
      "cell_type": "code",
      "execution_count": 29,
      "metadata": {
        "id": "__p9KDx7_iP1"
      },
      "outputs": [],
      "source": [
        "# ランダムフォレスト分類器の初期化（ハイパーパラメータを調整）\n",
        "random_forest = RandomForestClassifier(n_estimators=100, max_depth=6, min_samples_split=4, min_samples_leaf=3)"
      ]
    },
    {
      "cell_type": "code",
      "execution_count": 30,
      "metadata": {
        "id": "WP_sJsk8_kqn",
        "colab": {
          "base_uri": "https://localhost:8080/",
          "height": 75
        },
        "outputId": "4f3c9354-d41c-44f0-c2aa-1613b35601d6"
      },
      "outputs": [
        {
          "output_type": "execute_result",
          "data": {
            "text/plain": [
              "RandomForestClassifier(max_depth=6, min_samples_leaf=3, min_samples_split=4)"
            ],
            "text/html": [
              "<style>#sk-container-id-2 {color: black;background-color: white;}#sk-container-id-2 pre{padding: 0;}#sk-container-id-2 div.sk-toggleable {background-color: white;}#sk-container-id-2 label.sk-toggleable__label {cursor: pointer;display: block;width: 100%;margin-bottom: 0;padding: 0.3em;box-sizing: border-box;text-align: center;}#sk-container-id-2 label.sk-toggleable__label-arrow:before {content: \"▸\";float: left;margin-right: 0.25em;color: #696969;}#sk-container-id-2 label.sk-toggleable__label-arrow:hover:before {color: black;}#sk-container-id-2 div.sk-estimator:hover label.sk-toggleable__label-arrow:before {color: black;}#sk-container-id-2 div.sk-toggleable__content {max-height: 0;max-width: 0;overflow: hidden;text-align: left;background-color: #f0f8ff;}#sk-container-id-2 div.sk-toggleable__content pre {margin: 0.2em;color: black;border-radius: 0.25em;background-color: #f0f8ff;}#sk-container-id-2 input.sk-toggleable__control:checked~div.sk-toggleable__content {max-height: 200px;max-width: 100%;overflow: auto;}#sk-container-id-2 input.sk-toggleable__control:checked~label.sk-toggleable__label-arrow:before {content: \"▾\";}#sk-container-id-2 div.sk-estimator input.sk-toggleable__control:checked~label.sk-toggleable__label {background-color: #d4ebff;}#sk-container-id-2 div.sk-label input.sk-toggleable__control:checked~label.sk-toggleable__label {background-color: #d4ebff;}#sk-container-id-2 input.sk-hidden--visually {border: 0;clip: rect(1px 1px 1px 1px);clip: rect(1px, 1px, 1px, 1px);height: 1px;margin: -1px;overflow: hidden;padding: 0;position: absolute;width: 1px;}#sk-container-id-2 div.sk-estimator {font-family: monospace;background-color: #f0f8ff;border: 1px dotted black;border-radius: 0.25em;box-sizing: border-box;margin-bottom: 0.5em;}#sk-container-id-2 div.sk-estimator:hover {background-color: #d4ebff;}#sk-container-id-2 div.sk-parallel-item::after {content: \"\";width: 100%;border-bottom: 1px solid gray;flex-grow: 1;}#sk-container-id-2 div.sk-label:hover label.sk-toggleable__label {background-color: #d4ebff;}#sk-container-id-2 div.sk-serial::before {content: \"\";position: absolute;border-left: 1px solid gray;box-sizing: border-box;top: 0;bottom: 0;left: 50%;z-index: 0;}#sk-container-id-2 div.sk-serial {display: flex;flex-direction: column;align-items: center;background-color: white;padding-right: 0.2em;padding-left: 0.2em;position: relative;}#sk-container-id-2 div.sk-item {position: relative;z-index: 1;}#sk-container-id-2 div.sk-parallel {display: flex;align-items: stretch;justify-content: center;background-color: white;position: relative;}#sk-container-id-2 div.sk-item::before, #sk-container-id-2 div.sk-parallel-item::before {content: \"\";position: absolute;border-left: 1px solid gray;box-sizing: border-box;top: 0;bottom: 0;left: 50%;z-index: -1;}#sk-container-id-2 div.sk-parallel-item {display: flex;flex-direction: column;z-index: 1;position: relative;background-color: white;}#sk-container-id-2 div.sk-parallel-item:first-child::after {align-self: flex-end;width: 50%;}#sk-container-id-2 div.sk-parallel-item:last-child::after {align-self: flex-start;width: 50%;}#sk-container-id-2 div.sk-parallel-item:only-child::after {width: 0;}#sk-container-id-2 div.sk-dashed-wrapped {border: 1px dashed gray;margin: 0 0.4em 0.5em 0.4em;box-sizing: border-box;padding-bottom: 0.4em;background-color: white;}#sk-container-id-2 div.sk-label label {font-family: monospace;font-weight: bold;display: inline-block;line-height: 1.2em;}#sk-container-id-2 div.sk-label-container {text-align: center;}#sk-container-id-2 div.sk-container {/* jupyter's `normalize.less` sets `[hidden] { display: none; }` but bootstrap.min.css set `[hidden] { display: none !important; }` so we also need the `!important` here to be able to override the default hidden behavior on the sphinx rendered scikit-learn.org. See: https://github.com/scikit-learn/scikit-learn/issues/21755 */display: inline-block !important;position: relative;}#sk-container-id-2 div.sk-text-repr-fallback {display: none;}</style><div id=\"sk-container-id-2\" class=\"sk-top-container\"><div class=\"sk-text-repr-fallback\"><pre>RandomForestClassifier(max_depth=6, min_samples_leaf=3, min_samples_split=4)</pre><b>In a Jupyter environment, please rerun this cell to show the HTML representation or trust the notebook. <br />On GitHub, the HTML representation is unable to render, please try loading this page with nbviewer.org.</b></div><div class=\"sk-container\" hidden><div class=\"sk-item\"><div class=\"sk-estimator sk-toggleable\"><input class=\"sk-toggleable__control sk-hidden--visually\" id=\"sk-estimator-id-2\" type=\"checkbox\" checked><label for=\"sk-estimator-id-2\" class=\"sk-toggleable__label sk-toggleable__label-arrow\">RandomForestClassifier</label><div class=\"sk-toggleable__content\"><pre>RandomForestClassifier(max_depth=6, min_samples_leaf=3, min_samples_split=4)</pre></div></div></div></div></div>"
            ]
          },
          "metadata": {},
          "execution_count": 30
        }
      ],
      "source": [
        "# 訓練データでモデルを訓練\n",
        "random_forest.fit(X_train_upsampled, y_train_upsampled)"
      ]
    },
    {
      "cell_type": "code",
      "execution_count": 31,
      "metadata": {
        "id": "u2wpN-DI_mOO"
      },
      "outputs": [],
      "source": [
        "# テストデータでの予測\n",
        "y_pred = random_forest.predict(X_test)"
      ]
    },
    {
      "cell_type": "code",
      "execution_count": 32,
      "metadata": {
        "id": "Q3-rkMu4_rCD",
        "colab": {
          "base_uri": "https://localhost:8080/"
        },
        "outputId": "b04634be-0139-412f-fa4e-c101f9827c9e"
      },
      "outputs": [
        {
          "output_type": "stream",
          "name": "stdout",
          "text": [
            "\n",
            "\n",
            "正解率：0.9986046511627907\n",
            "MCC：0.992356503372486\n",
            "F1：0.9992238033635188\n"
          ]
        }
      ],
      "source": [
        "# モデルの評価\n",
        "accuracy = accuracy_score(y_test, y_pred)\n",
        "MCC = matthews_corrcoef(y_test, y_pred)\n",
        "F1 = f1_score(y_test, y_pred, average='binary')\n",
        "report = classification_report(y_test, y_pred)\n",
        "\n",
        "print(\"\\n\")\n",
        "print(f\"正解率：{accuracy}\")\n",
        "print(f\"MCC：{MCC}\")\n",
        "print(f\"F1：{F1}\")"
      ]
    },
    {
      "cell_type": "markdown",
      "metadata": {
        "id": "2bdBJ78iA9Mg"
      },
      "source": [
        "↓↓過学習していないかチェックを行う。↓↓"
      ]
    },
    {
      "cell_type": "code",
      "execution_count": 33,
      "metadata": {
        "id": "IGcM7UueA972"
      },
      "outputs": [],
      "source": [
        "from sklearn.metrics import accuracy_score"
      ]
    },
    {
      "cell_type": "markdown",
      "metadata": {
        "id": "NPMBmM9PC7Md"
      },
      "source": [
        "トレーニングデータとテストデータによる性能評価:"
      ]
    },
    {
      "cell_type": "code",
      "execution_count": 34,
      "metadata": {
        "id": "C-sEaRPQBRGG",
        "colab": {
          "base_uri": "https://localhost:8080/"
        },
        "outputId": "7bfc97ee-779c-4f4a-d3a2-72bc385bb9b2"
      },
      "outputs": [
        {
          "output_type": "stream",
          "name": "stdout",
          "text": [
            "Training Accuracy: 1.0\n",
            "Testing Accuracy: 0.9990697674418605\n",
            "\n",
            "\n",
            "Training F1: 1.0\n",
            "Testing F1: 0.999482669425763\n"
          ]
        }
      ],
      "source": [
        "# ランダムフォレストモデルを初期化\n",
        "rf_model = RandomForestClassifier(n_estimators=100, random_state=42)\n",
        "\n",
        "# モデルをトレーニングデータで学習\n",
        "rf_model.fit(X_train_upsampled, y_train_upsampled)\n",
        "\n",
        "# トレーニングデータとテストデータでの性能評価\n",
        "train_accuracy = accuracy_score(y_train_upsampled, rf_model.predict(X_train_upsampled))\n",
        "test_accuracy = accuracy_score(y_test, rf_model.predict(X_test))\n",
        "train_F1 = f1_score(y_train_upsampled, rf_model.predict(X_train_upsampled), average='binary')\n",
        "test_F1 = f1_score(y_test, rf_model.predict(X_test), average='binary')\n",
        "\n",
        "print(\"Training Accuracy:\", train_accuracy)\n",
        "print(\"Testing Accuracy:\", test_accuracy)\n",
        "print(\"\\n\")\n",
        "print(\"Training F1:\", train_F1)\n",
        "print(\"Testing F1:\", test_F1)"
      ]
    },
    {
      "cell_type": "markdown",
      "metadata": {
        "id": "h4G6_eq-C8vi"
      },
      "source": [
        "学習曲線の可視化："
      ]
    },
    {
      "cell_type": "code",
      "execution_count": 35,
      "metadata": {
        "id": "4wv2fmNXBesM",
        "colab": {
          "base_uri": "https://localhost:8080/",
          "height": 472
        },
        "outputId": "ddeba058-bced-40d6-c805-366c5a274fd3"
      },
      "outputs": [
        {
          "output_type": "display_data",
          "data": {
            "text/plain": [
              "<Figure size 640x480 with 1 Axes>"
            ],
            "image/png": "[encoded data removed]"
          },
          "metadata": {}
        }
      ],
      "source": [
        "import matplotlib.pyplot as plt\n",
        "from sklearn.model_selection import learning_curve\n",
        "\n",
        "# 学習曲線を作成する関数を定義\n",
        "def plot_learning_curve(estimator, title, X, y, ylim=None, cv=None, n_jobs=None, train_sizes=np.linspace(.1, 1.0, 5)):\n",
        "    plt.figure()\n",
        "    plt.title(title)\n",
        "    if ylim is not None:\n",
        "        plt.ylim(*ylim)\n",
        "    plt.xlabel(\"Training examples\")\n",
        "    plt.ylabel(\"Score\")\n",
        "    train_sizes, train_scores, test_scores = learning_curve(estimator, X, y, cv=cv, n_jobs=n_jobs, train_sizes=train_sizes)\n",
        "    train_scores_mean = np.mean(train_scores, axis=1)\n",
        "    train_scores_std = np.std(train_scores, axis=1)\n",
        "    test_scores_mean = np.mean(test_scores, axis=1)\n",
        "    test_scores_std = np.std(test_scores, axis=1)\n",
        "    plt.grid()\n",
        "\n",
        "    plt.fill_between(train_sizes, train_scores_mean - train_scores_std,\n",
        "                     train_scores_mean + train_scores_std, alpha=0.1,\n",
        "                     color=\"r\")\n",
        "    plt.fill_between(train_sizes, test_scores_mean - test_scores_std,\n",
        "                     test_scores_mean + test_scores_std, alpha=0.1, color=\"g\")\n",
        "    plt.plot(train_sizes, train_scores_mean, 'o-', color=\"r\",\n",
        "             label=\"Training score\")\n",
        "    plt.plot(train_sizes, test_scores_mean, 'o-', color=\"g\",\n",
        "             label=\"Cross-validation score\")\n",
        "\n",
        "    plt.legend(loc=\"best\")\n",
        "    return plt\n",
        "\n",
        "# 学習曲線をプロット\n",
        "title = \"Learning Curves (Random Forest)\"\n",
        "plot_learning_curve(rf_model, title, X, y, cv=5)\n",
        "plt.show()\n"
      ]
    },
    {
      "cell_type": "markdown",
      "metadata": {
        "id": "e1SukdAVEDD1"
      },
      "source": [
        "    以下はベストなハイパーパラメーターを探すため、RandomizedSearchCVのライブラリを利用してみる。"
      ]
    },
    {
      "cell_type": "code",
      "execution_count": 38,
      "metadata": {
        "colab": {
          "base_uri": "https://localhost:8080/"
        },
        "id": "aJZI9j9jD4m8",
        "outputId": "998cc8eb-ce93-4d9e-b4ed-93f66bf0f674"
      },
      "outputs": [
        {
          "output_type": "stream",
          "name": "stdout",
          "text": [
            "Fitting 5 folds for each of 100 candidates, totalling 500 fits\n",
            "最適なハイパーパラメータ: {'n_estimators': 500, 'min_samples_split': 12, 'min_samples_leaf': 1, 'max_depth': 11}\n",
            "正確さ（Accuracy）: 0.9990697674418605\n",
            "F1スコア（Macro）: 0.9974371872474437\n",
            "F1スコア（Weighted）: 0.9990716702159799\n",
            "MCC: 0.9948874555978666\n"
          ]
        }
      ],
      "source": [
        "from sklearn.model_selection import train_test_split, RandomizedSearchCV\n",
        "\n",
        "# ランダムフォレスト分類器のハイパーパラメータ範囲を定義\n",
        "param_distributions = {\n",
        "    'n_estimators': [400, 500, 600, 700],\n",
        "    'max_depth': [8, 9, 10, 11],\n",
        "    'min_samples_split': [8, 10, 12],\n",
        "    'min_samples_leaf': [1, 2, 3]\n",
        "}\n",
        "\n",
        "# RandomizedSearchCVの初期化\n",
        "random_search = RandomizedSearchCV(\n",
        "    RandomForestClassifier(),\n",
        "    param_distributions=param_distributions,\n",
        "    n_iter=100,\n",
        "    cv=5,\n",
        "    verbose=2,\n",
        "    random_state=42,\n",
        "    n_jobs=-1\n",
        ")\n",
        "\n",
        "# ハイパーパラメータのチューニングとモデルの訓練\n",
        "random_search.fit(X_train_upsampled, y_train_upsampled)\n",
        "\n",
        "# ベストモデルを取得\n",
        "best_model = random_search.best_estimator_\n",
        "\n",
        "# テストデータでの予測\n",
        "y_pred = best_model.predict(X_test)\n",
        "\n",
        "# 正確さ（Accuracy）とF1スコアの計算\n",
        "accuracy = accuracy_score(y_test, y_pred)\n",
        "macro_f1 = f1_score(y_test, y_pred, average='macro')\n",
        "weighted_f1 = f1_score(y_test, y_pred, average='weighted')\n",
        "mcc = matthews_corrcoef(y_test, y_pred)\n",
        "\n",
        "# 結果の表示\n",
        "print(\"最適なハイパーパラメータ:\", random_search.best_params_)\n",
        "print(\"正確さ（Accuracy）:\", accuracy)\n",
        "print(\"F1スコア（Macro）:\", macro_f1)\n",
        "print(\"F1スコア（Weighted）:\", weighted_f1)\n",
        "print(f'MCC: {mcc}')"
      ]
    },
    {
      "cell_type": "code",
      "execution_count": 38,
      "metadata": {
        "id": "vwZ1XzNr9JQW"
      },
      "outputs": [],
      "source": []
    }
  ],
  "metadata": {
    "colab": {
      "provenance": [],
      "include_colab_link": true
    },
    "kernelspec": {
      "display_name": "Python 3",
      "name": "python3"
    },
    "language_info": {
      "name": "python"
    }
  },
  "nbformat": 4,
  "nbformat_minor": 0
}