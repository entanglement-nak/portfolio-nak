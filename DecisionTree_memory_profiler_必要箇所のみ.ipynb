{
  "nbformat": 4,
  "nbformat_minor": 0,
  "metadata": {
    "colab": {
      "provenance": [],
      "authorship_tag": "ABX9TyPo81h6GTh/MONjr6Ocstzt",
      "include_colab_link": true
    },
    "kernelspec": {
      "name": "python3",
      "display_name": "Python 3"
    },
    "language_info": {
      "name": "python"
    }
  },
  "cells": [
    {
      "cell_type": "markdown",
      "metadata": {
        "id": "view-in-github",
        "colab_type": "text"
      },
      "source": [
        "<a href=\"https://colab.research.google.com/github/entanglement-nak/portfolio-nak/blob/main/DecisionTree_memory_profiler_%E5%BF%85%E8%A6%81%E7%AE%87%E6%89%80%E3%81%AE%E3%81%BF.ipynb\" target=\"_parent\"><img src=\"https://colab.research.google.com/assets/colab-badge.svg\" alt=\"Open In Colab\"/></a>"
      ]
    },
    {
      "cell_type": "code",
      "execution_count": null,
      "metadata": {
        "colab": {
          "base_uri": "https://localhost:8080/"
        },
        "id": "B_2ZPqsx-2L6",
        "outputId": "597ea63b-a9d4-4e1e-acbb-742b6e3eb7f4"
      },
      "outputs": [
        {
          "output_type": "stream",
          "name": "stdout",
          "text": [
            "Collecting memory_profiler\n",
            "  Downloading memory_profiler-0.61.0-py3-none-any.whl (31 kB)\n",
            "Requirement already satisfied: psutil in /usr/local/lib/python3.10/dist-packages (from memory_profiler) (5.9.5)\n",
            "Installing collected packages: memory_profiler\n",
            "Successfully installed memory_profiler-0.61.0\n"
          ]
        }
      ],
      "source": [
        "import pandas as pd\n",
        "import numpy as np\n",
        "from sklearn.model_selection import train_test_split\n",
        "from sklearn.tree import DecisionTreeClassifier\n",
        "from sklearn.metrics import accuracy_score, f1_score, matthews_corrcoef\n",
        "from sklearn.utils import resample\n",
        "!pip install memory_profiler\n",
        "from memory_profiler import profile"
      ]
    },
    {
      "cell_type": "code",
      "source": [
        "%load_ext memory_profiler"
      ],
      "metadata": {
        "id": "0WriNuoXC1n8"
      },
      "execution_count": null,
      "outputs": []
    },
    {
      "cell_type": "code",
      "source": [
        "from google.colab import drive\n",
        "drive.mount('/content/drive')"
      ],
      "metadata": {
        "colab": {
          "base_uri": "https://localhost:8080/"
        },
        "id": "RyJ2FNoYC3Zm",
        "outputId": "033c3c30-d399-4ca1-da5d-e088b5b07ff7"
      },
      "execution_count": null,
      "outputs": [
        {
          "output_type": "stream",
          "name": "stdout",
          "text": [
            "Mounted at /content/drive\n"
          ]
        }
      ]
    },
    {
      "cell_type": "code",
      "source": [
        "# データの読み込み\n",
        "# profile\n",
        "def load_data(train_path, test_path):\n",
        "    train_df = pd.read_excel(train_path, header=None)\n",
        "    test_df = pd.read_excel(test_path, header=None)\n",
        "    return train_df, test_df"
      ],
      "metadata": {
        "id": "t6srW13yC5q7"
      },
      "execution_count": null,
      "outputs": []
    },
    {
      "cell_type": "code",
      "source": [
        "# データの前処理\n",
        "# profile\n",
        "def preprocess_data(train_df, test_df):\n",
        "    combined_data = pd.concat([train_df, test_df], axis=0)\n",
        "    combined_data_filled = combined_data.fillna(combined_data.mean())\n",
        "    combined_data_cleaned = combined_data_filled.replace([np.inf, -np.inf], np.nan).fillna(combined_data_filled.mean())\n",
        "    X = combined_data_cleaned.drop(combined_data_cleaned.columns[0], axis=1)\n",
        "    y = combined_data_cleaned[combined_data_cleaned.columns[0]]\n",
        "    return X, y"
      ],
      "metadata": {
        "id": "i6ZL8Cd1DYpt"
      },
      "execution_count": null,
      "outputs": []
    },
    {
      "cell_type": "code",
      "source": [
        "# データの分割とアップサンプリング\n",
        "# profile\n",
        "def split_and_upsample(X, y):\n",
        "    X_train, X_test, y_train, y_test = train_test_split(X, y, test_size=0.3, random_state=42)\n",
        "    df_train = pd.concat([X_train, y_train], axis=1)\n",
        "    df_normal_train = df_train[df_train[df_train.columns[-1]] == 1]\n",
        "    df_anomaly_train = df_train[df_train[df_train.columns[-1]] == -1]\n",
        "    df_anomaly_upsampled = resample(df_anomaly_train, replace=True, n_samples=len(df_normal_train), random_state=123)\n",
        "    df_upsampled_train = pd.concat([df_normal_train, df_anomaly_upsampled])\n",
        "    X_train_upsampled = df_upsampled_train.drop(df_upsampled_train.columns[-1], axis=1)\n",
        "    y_train_upsampled = df_upsampled_train[df_upsampled_train.columns[-1]]\n",
        "    return X_train_upsampled, y_train_upsampled, X_test, y_test"
      ],
      "metadata": {
        "id": "6MTjtthwDct9"
      },
      "execution_count": null,
      "outputs": []
    },
    {
      "cell_type": "code",
      "source": [
        "# モデルの訓練 - 決定木\n",
        "# profile\n",
        "def train_model(X_train_upsampled, y_train_upsampled):\n",
        "    decision_tree = DecisionTreeClassifier(max_depth=17)\n",
        "    decision_tree.fit(X_train_upsampled, y_train_upsampled)\n",
        "    return decision_tree"
      ],
      "metadata": {
        "id": "k6fmydb4De91"
      },
      "execution_count": null,
      "outputs": []
    },
    {
      "cell_type": "code",
      "source": [
        "import time\n",
        "\n",
        "# 予測と評価（時間計測付き）\n",
        "def predict_and_evaluate(model, X_test, y_test):\n",
        "    # 予測時間の計測を開始\n",
        "    start_time = time.time()\n",
        "    y_pred = model.predict(X_test)\n",
        "    # 予測時間の計測を終了\n",
        "    end_time = time.time()\n",
        "\n",
        "    # 予測にかかった時間を計算\n",
        "    elapsed_time = end_time - start_time\n",
        "\n",
        "    # 評価指標の計算\n",
        "    accuracy = accuracy_score(y_test, y_pred)\n",
        "    macro_f1 = f1_score(y_test, y_pred, average='macro')\n",
        "    weighted_f1 = f1_score(y_test, y_pred, average='weighted')\n",
        "    mcc = matthews_corrcoef(y_test, y_pred)\n",
        "\n",
        "    return accuracy, macro_f1, weighted_f1, mcc, elapsed_time"
      ],
      "metadata": {
        "id": "Y_dwZYIslwow"
      },
      "execution_count": null,
      "outputs": []
    },
    {
      "cell_type": "code",
      "source": [
        "# メイン関数（時間計測を含む）\n",
        "def main():\n",
        "    # データパス\n",
        "    train_path = r\"/content/drive/MyDrive/Wafer/Wafer_TRAIN.xlsx\"\n",
        "    test_path = r\"/content/drive/MyDrive/Wafer/Wafer_TEST.xlsx\"\n",
        "\n",
        "    # データの読み込み\n",
        "    train_df, test_df = load_data(train_path, test_path)\n",
        "\n",
        "    # データの前処理\n",
        "    X, y = preprocess_data(train_df, test_df)\n",
        "\n",
        "    # データの分割とアップサンプリング\n",
        "    X_train_upsampled, y_train_upsampled, X_test, y_test = split_and_upsample(X, y)\n",
        "\n",
        "    # モデルの訓練\n",
        "    model = train_model(X_train_upsampled, y_train_upsampled)\n",
        "\n",
        "    # 予測と評価\n",
        "    accuracy, macro_f1, weighted_f1, mcc, elapsed_time = predict_and_evaluate(model, X_test, y_test)\n",
        "\n",
        "    # 結果の出力\n",
        "    print(f\"Accuracy: {accuracy}, Macro F1: {macro_f1}, Weighted F1: {weighted_f1}, MCC: {mcc}\")\n",
        "    print(f\"予測にかかった時間: {elapsed_time} 秒\")"
      ],
      "metadata": {
        "id": "TttsuZkCq1T4"
      },
      "execution_count": null,
      "outputs": []
    },
    {
      "cell_type": "code",
      "source": [
        "# 10回計測する\n",
        "for i in range(10):\n",
        "    print(f\"{i+1}回目の計測\")\n",
        "    %memit main()\n",
        "    print(\"\\n\")"
      ],
      "metadata": {
        "colab": {
          "base_uri": "https://localhost:8080/"
        },
        "id": "NoimSXSIq34k",
        "outputId": "bb3da867-b55e-41f3-f822-80d38e229d03"
      },
      "execution_count": null,
      "outputs": [
        {
          "output_type": "stream",
          "name": "stdout",
          "text": [
            "1回目の計測\n",
            "Accuracy: 0.9893023255813953, Macro F1: 0.9714012904986933, Weighted F1: 0.9894812306939209, MCC: 0.9436555274484599\n",
            "予測にかかった時間: 0.003215789794921875 秒\n",
            "peak memory: 316.11 MiB, increment: 47.31 MiB\n",
            "\n",
            "\n",
            "2回目の計測\n",
            "Accuracy: 0.9893023255813953, Macro F1: 0.9715133196113368, Weighted F1: 0.9895012609041918, MCC: 0.944084254477717\n",
            "予測にかかった時間: 0.0046138763427734375 秒\n",
            "peak memory: 316.21 MiB, increment: 47.05 MiB\n",
            "\n",
            "\n",
            "3回目の計測\n",
            "Accuracy: 0.9916279069767442, Macro F1: 0.977485391684372, Weighted F1: 0.991744101351212, MCC: 0.9555620054342758\n",
            "予測にかかった時間: 0.0032575130462646484 秒\n",
            "peak memory: 314.68 MiB, increment: 45.47 MiB\n",
            "\n",
            "\n",
            "4回目の計測\n",
            "Accuracy: 0.9893023255813953, Macro F1: 0.9715133196113368, Weighted F1: 0.9895012609041918, MCC: 0.944084254477717\n",
            "予測にかかった時間: 0.0032165050506591797 秒\n",
            "peak memory: 319.16 MiB, increment: 49.95 MiB\n",
            "\n",
            "\n",
            "5回目の計測\n",
            "Accuracy: 0.9916279069767442, Macro F1: 0.9775742656875834, Weighted F1: 0.9917600211134225, MCC: 0.9559149525084752\n",
            "予測にかかった時間: 0.003326416015625 秒\n",
            "peak memory: 319.96 MiB, increment: 50.73 MiB\n",
            "\n",
            "\n",
            "6回目の計測\n",
            "Accuracy: 0.9902325581395349, Macro F1: 0.9739904222538293, Weighted F1: 0.9904141947386098, MCC: 0.9490429224484189\n",
            "予測にかかった時間: 0.003111600875854492 秒\n",
            "peak memory: 314.79 MiB, increment: 51.35 MiB\n",
            "\n",
            "\n",
            "7回目の計測\n",
            "Accuracy: 0.9916279069767442, Macro F1: 0.9775742656875834, Weighted F1: 0.9917600211134225, MCC: 0.9559149525084752\n",
            "予測にかかった時間: 0.003130674362182617 秒\n",
            "peak memory: 314.94 MiB, increment: 51.50 MiB\n",
            "\n",
            "\n",
            "8回目の計測\n",
            "Accuracy: 0.9902325581395349, Macro F1: 0.9738881348031547, Weighted F1: 0.9903959062857539, MCC: 0.9486328333446437\n",
            "予測にかかった時間: 0.0032279491424560547 秒\n",
            "peak memory: 316.72 MiB, increment: 47.41 MiB\n",
            "\n",
            "\n",
            "9回目の計測\n",
            "Accuracy: 0.9902325581395349, Macro F1: 0.9739904222538293, Weighted F1: 0.9904141947386098, MCC: 0.9490429224484189\n",
            "予測にかかった時間: 0.0036842823028564453 秒\n",
            "peak memory: 316.25 MiB, increment: 46.91 MiB\n",
            "\n",
            "\n",
            "10回目の計測\n",
            "Accuracy: 0.9906976744186047, Macro F1: 0.974983768538191, Weighted F1: 0.9908267792791244, MCC: 0.9505562593408016\n",
            "予測にかかった時間: 0.0031824111938476562 秒\n",
            "peak memory: 318.52 MiB, increment: 49.16 MiB\n",
            "\n",
            "\n"
          ]
        }
      ]
    }
  ]
}