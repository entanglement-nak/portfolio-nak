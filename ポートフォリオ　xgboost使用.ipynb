{
  "nbformat": 4,
  "nbformat_minor": 0,
  "metadata": {
    "colab": {
      "provenance": [],
      "include_colab_link": true
    },
    "kernelspec": {
      "name": "python3",
      "display_name": "Python 3"
    },
    "language_info": {
      "name": "python"
    }
  },
  "cells": [
    {
      "cell_type": "markdown",
      "metadata": {
        "id": "view-in-github",
        "colab_type": "text"
      },
      "source": [
        "<a href=\"https://colab.research.google.com/github/entanglement-nak/portfolio-nak/blob/main/%E3%83%9D%E3%83%BC%E3%83%88%E3%83%95%E3%82%A9%E3%83%AA%E3%82%AA%E3%80%80xgboost%E4%BD%BF%E7%94%A8.ipynb\" target=\"_parent\"><img src=\"https://colab.research.google.com/assets/colab-badge.svg\" alt=\"Open In Colab\"/></a>"
      ]
    },
    {
      "cell_type": "code",
      "execution_count": 12,
      "metadata": {
        "id": "YbMVvJ_U-qqv"
      },
      "outputs": [],
      "source": [
        "import pandas as pd\n",
        "import numpy as np\n",
        "from sklearn.ensemble import RandomForestClassifier\n",
        "from sklearn.metrics import classification_report, accuracy_score\n",
        "from sklearn.metrics import matthews_corrcoef\n",
        "from sklearn.metrics import f1_score\n",
        "from sklearn.model_selection import train_test_split\n",
        "from sklearn.utils import resample\n",
        "from xgboost import XGBClassifier"
      ]
    },
    {
      "cell_type": "code",
      "source": [
        "from google.colab import drive\n",
        "drive.mount('/content/drive')"
      ],
      "metadata": {
        "colab": {
          "base_uri": "https://localhost:8080/"
        },
        "id": "CTqJ7Xhd-3aK",
        "outputId": "00ce8bc2-460f-4ef8-ffc7-441d9519dbf2"
      },
      "execution_count": 2,
      "outputs": [
        {
          "output_type": "stream",
          "name": "stdout",
          "text": [
            "Mounted at /content/drive\n"
          ]
        }
      ]
    },
    {
      "cell_type": "code",
      "source": [
        "# データパス\n",
        "train_path = r\"/content/drive/MyDrive/Wafer/Wafer_TRAIN.xlsx\"\n",
        "\n",
        "test_path = r\"/content/drive/MyDrive/Wafer/Wafer_TEST.xlsx\""
      ],
      "metadata": {
        "id": "ySX2ISG4-9we"
      },
      "execution_count": 3,
      "outputs": []
    },
    {
      "cell_type": "code",
      "source": [
        "train_df = pd.read_excel(train_path, header=None)\n",
        "\n",
        "test_df = pd.read_excel(test_path, header=None)"
      ],
      "metadata": {
        "id": "sNOC2NQK-_wl"
      },
      "execution_count": 4,
      "outputs": []
    },
    {
      "cell_type": "code",
      "source": [
        "# トレインデータとテストデータを縦に統合（スタック）\n",
        "combined_data = pd.concat([train_df, test_df], axis=0)"
      ],
      "metadata": {
        "id": "ApCq56o__BUP"
      },
      "execution_count": 5,
      "outputs": []
    },
    {
      "cell_type": "code",
      "source": [
        "# データを特徴量(X)とターゲット(y)に分割\n",
        "X = combined_data.drop(combined_data.columns[0], axis=1)\n",
        "y = combined_data[combined_data.columns[0]]"
      ],
      "metadata": {
        "id": "fqLYMzaE_CyY"
      },
      "execution_count": 6,
      "outputs": []
    },
    {
      "cell_type": "code",
      "source": [
        "# データを訓練用とテスト用に7:3の比率で分割\n",
        "X_train, X_test, y_train, y_test = train_test_split(X, y, test_size=0.3, random_state=42)"
      ],
      "metadata": {
        "id": "9bABD0lJylV2"
      },
      "execution_count": 7,
      "outputs": []
    },
    {
      "cell_type": "code",
      "source": [
        "# 訓練データ内で正常と異常のクラスを分離し、異常クラスのアップサンプリングを行う\n",
        "df_train = pd.concat([X_train, y_train], axis=1)\n",
        "df_normal_train = df_train[df_train[df_train.columns[-1]] == 1]\n",
        "df_anomaly_train = df_train[df_train[df_train.columns[-1]] == -1]\n",
        "\n",
        "df_anomaly_upsampled = resample(df_anomaly_train, replace=True, n_samples=len(df_normal_train), random_state=123)\n",
        "df_upsampled_train = pd.concat([df_normal_train, df_anomaly_upsampled])"
      ],
      "metadata": {
        "id": "LvqJ3oSqyl9J"
      },
      "execution_count": 8,
      "outputs": []
    },
    {
      "cell_type": "code",
      "source": [
        "# アップサンプリングされたデータを特徴量(X)とターゲット(y)に分割\n",
        "X_train_upsampled = df_upsampled_train.drop(df_upsampled_train.columns[-1], axis=1)\n",
        "y_train_upsampled = df_upsampled_train[df_upsampled_train.columns[-1]]"
      ],
      "metadata": {
        "id": "u3Y37SNvys1W"
      },
      "execution_count": 9,
      "outputs": []
    },
    {
      "cell_type": "code",
      "source": [
        "# ラベルの変換（-1を0に変換）\n",
        "y_train_upsampled = y_train_upsampled.map({-1: 0, 1: 1})\n",
        "y_test = y_test.map({-1: 0, 1: 1})"
      ],
      "metadata": {
        "id": "V0g8-8jfyCHB"
      },
      "execution_count": 10,
      "outputs": []
    },
    {
      "cell_type": "code",
      "source": [
        "# XGBoost分類器の初期化\n",
        "xgb = XGBClassifier()\n",
        "\n",
        "# モデルのトレーニング\n",
        "xgb.fit(X_train_upsampled, y_train_upsampled)\n",
        "\n",
        "# テストセットに対する予測\n",
        "y_pred = xgb.predict(X_test)\n",
        "\n",
        "# モデルの評価\n",
        "accuracy = accuracy_score(y_test, y_pred)\n",
        "report = classification_report(y_test, y_pred)\n",
        "print(report)\n",
        "# モデルの評価\n",
        "accuracy = accuracy_score(y_test, y_pred)\n",
        "MCC = matthews_corrcoef(y_test, y_pred)\n",
        "F1 = f1_score(y_test, y_pred, average='binary')\n",
        "report = classification_report(y_test, y_pred)\n",
        "\n",
        "print(\"\\n\")\n",
        "print(f\"正解率：{accuracy}\")\n",
        "print(f\"MCC：{MCC}\")\n",
        "print(f\"F1：{F1}\")"
      ],
      "metadata": {
        "colab": {
          "base_uri": "https://localhost:8080/"
        },
        "id": "Y9hIlmmIveGo",
        "outputId": "e2a54719-eb26-4e8e-9f82-c5977d673ce1"
      },
      "execution_count": 13,
      "outputs": [
        {
          "output_type": "stream",
          "name": "stdout",
          "text": [
            "              precision    recall  f1-score   support\n",
            "\n",
            "           0       0.99      1.00      0.99       216\n",
            "           1       1.00      1.00      1.00      1934\n",
            "\n",
            "    accuracy                           1.00      2150\n",
            "   macro avg       0.99      1.00      1.00      2150\n",
            "weighted avg       1.00      1.00      1.00      2150\n",
            "\n",
            "\n",
            "\n",
            "正解率：0.9986046511627907\n",
            "MCC：0.992356503372486\n",
            "F1：0.9992238033635188\n"
          ]
        }
      ]
    }
  ]
}