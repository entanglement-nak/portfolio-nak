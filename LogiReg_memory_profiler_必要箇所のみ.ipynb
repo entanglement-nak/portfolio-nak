{
  "nbformat": 4,
  "nbformat_minor": 0,
  "metadata": {
    "colab": {
      "provenance": [],
      "authorship_tag": "ABX9TyNO6x7YMjWZQpm8vOy6//sh",
      "include_colab_link": true
    },
    "kernelspec": {
      "name": "python3",
      "display_name": "Python 3"
    },
    "language_info": {
      "name": "python"
    }
  },
  "cells": [
    {
      "cell_type": "markdown",
      "metadata": {
        "id": "view-in-github",
        "colab_type": "text"
      },
      "source": [
        "<a href=\"https://colab.research.google.com/github/entanglement-nak/portfolio-nak/blob/main/LogiReg_memory_profiler_%E5%BF%85%E8%A6%81%E7%AE%87%E6%89%80%E3%81%AE%E3%81%BF.ipynb\" target=\"_parent\"><img src=\"https://colab.research.google.com/assets/colab-badge.svg\" alt=\"Open In Colab\"/></a>"
      ]
    },
    {
      "cell_type": "code",
      "execution_count": null,
      "metadata": {
        "colab": {
          "base_uri": "https://localhost:8080/"
        },
        "id": "WJ9Oalsx71La",
        "outputId": "16cef21c-9cdf-401b-9aff-033bfd0599fa"
      },
      "outputs": [
        {
          "output_type": "stream",
          "name": "stdout",
          "text": [
            "Collecting memory_profiler\n",
            "  Downloading memory_profiler-0.61.0-py3-none-any.whl (31 kB)\n",
            "Requirement already satisfied: psutil in /usr/local/lib/python3.10/dist-packages (from memory_profiler) (5.9.5)\n",
            "Installing collected packages: memory_profiler\n",
            "Successfully installed memory_profiler-0.61.0\n"
          ]
        }
      ],
      "source": [
        "import pandas as pd\n",
        "import numpy as np\n",
        "from matplotlib import pyplot as plt\n",
        "from sklearn.model_selection import train_test_split, RandomizedSearchCV\n",
        "from sklearn.linear_model import LogisticRegression\n",
        "from sklearn.metrics import accuracy_score, f1_score, matthews_corrcoef\n",
        "from sklearn.utils import resample\n",
        "!pip install memory_profiler\n",
        "from memory_profiler import profile\n",
        "from memory_profiler import memory_usage"
      ]
    },
    {
      "cell_type": "code",
      "source": [
        "#memory_profilerのIPython拡張機能をロードする\n",
        "%load_ext memory_profiler"
      ],
      "metadata": {
        "id": "IWv6KBO274kq"
      },
      "execution_count": null,
      "outputs": []
    },
    {
      "cell_type": "code",
      "source": [
        "from google.colab import drive\n",
        "drive.mount('/content/drive')"
      ],
      "metadata": {
        "colab": {
          "base_uri": "https://localhost:8080/"
        },
        "id": "qMKg1Wfr754g",
        "outputId": "d5e73e55-d21d-409e-82d1-8bcff7d6f57f"
      },
      "execution_count": null,
      "outputs": [
        {
          "output_type": "stream",
          "name": "stdout",
          "text": [
            "Mounted at /content/drive\n"
          ]
        }
      ]
    },
    {
      "cell_type": "code",
      "source": [
        "# データの読み込み\n",
        "# profile\n",
        "def load_data(train_path, test_path):\n",
        "    train_df = pd.read_excel(train_path, header=None)\n",
        "    test_df = pd.read_excel(test_path, header=None)\n",
        "    return train_df, test_df"
      ],
      "metadata": {
        "id": "OS4JdPbE77Rz"
      },
      "execution_count": null,
      "outputs": []
    },
    {
      "cell_type": "code",
      "source": [
        "# データの前処理\n",
        "# profile\n",
        "def preprocess_data(train_df, test_df):\n",
        "    combined_data = pd.concat([train_df, test_df], axis=0)\n",
        "    combined_data_filled = combined_data.fillna(combined_data.mean())\n",
        "    combined_data_cleaned = combined_data_filled.replace([np.inf, -np.inf], np.nan).fillna(combined_data_filled.mean())\n",
        "    X = combined_data_cleaned.drop(combined_data_cleaned.columns[0], axis=1)\n",
        "    y = combined_data_cleaned[combined_data_cleaned.columns[0]]\n",
        "    return X, y"
      ],
      "metadata": {
        "id": "ExVf3kct782V"
      },
      "execution_count": null,
      "outputs": []
    },
    {
      "cell_type": "code",
      "source": [
        "# データの分割とアップサンプリング\n",
        "# profile\n",
        "def split_and_upsample(X, y):\n",
        "    X_train, X_test, y_train, y_test = train_test_split(X, y, test_size=0.3, random_state=42)\n",
        "    df_train = pd.concat([X_train, y_train], axis=1)\n",
        "    df_normal_train = df_train[df_train[df_train.columns[-1]] == 1]\n",
        "    df_anomaly_train = df_train[df_train[df_train.columns[-1]] == -1]\n",
        "    df_anomaly_upsampled = resample(df_anomaly_train, replace=True, n_samples=len(df_normal_train), random_state=123)\n",
        "    df_upsampled_train = pd.concat([df_normal_train, df_anomaly_upsampled])\n",
        "    X_train_upsampled = df_upsampled_train.drop(df_upsampled_train.columns[-1], axis=1)\n",
        "    y_train_upsampled = df_upsampled_train[df_upsampled_train.columns[-1]]\n",
        "    return X_train_upsampled, y_train_upsampled, X_test, y_test"
      ],
      "metadata": {
        "id": "huSva_5O7_GE"
      },
      "execution_count": null,
      "outputs": []
    },
    {
      "cell_type": "code",
      "source": [
        "# モデルの訓練\n",
        "# profile\n",
        "def train_model(X_train_upsampled, y_train_upsampled):\n",
        "    logreg = LogisticRegression(max_iter=1000)\n",
        "    logreg.fit(X_train_upsampled, y_train_upsampled)\n",
        "    return logreg"
      ],
      "metadata": {
        "id": "eO_3Dzjs8A9m"
      },
      "execution_count": null,
      "outputs": []
    },
    {
      "cell_type": "code",
      "source": [
        "# 予測と評価\n",
        "# profile\n",
        "def predict_and_evaluate(model, X_test, y_test):\n",
        "    y_pred = model.predict(X_test)\n",
        "    accuracy = accuracy_score(y_test, y_pred)\n",
        "    macro_f1 = f1_score(y_test, y_pred, average='macro')\n",
        "    weighted_f1 = f1_score(y_test, y_pred, average='weighted')\n",
        "    mcc = matthews_corrcoef(y_test, y_pred)\n",
        "    return accuracy, macro_f1, weighted_f1, mcc"
      ],
      "metadata": {
        "id": "ea2lD4nl8DXL"
      },
      "execution_count": null,
      "outputs": []
    },
    {
      "cell_type": "code",
      "source": [
        "# メイン関数\n",
        "def main():\n",
        "    # データパス\n",
        "    train_path = r\"/content/drive/MyDrive/Wafer/Wafer_TRAIN.xlsx\"\n",
        "    test_path = r\"/content/drive/MyDrive/Wafer/Wafer_TEST.xlsx\"\n",
        "\n",
        "    # データの読み込み\n",
        "    train_df, test_df = load_data(train_path, test_path)\n",
        "\n",
        "    # データの前処理\n",
        "    X, y = preprocess_data(train_df, test_df)\n",
        "\n",
        "    # データの分割とアップサンプリング\n",
        "    X_train_upsampled, y_train_upsampled, X_test, y_test = split_and_upsample(X, y)\n",
        "\n",
        "    # モデルの訓練\n",
        "    model = train_model(X_train_upsampled, y_train_upsampled)\n",
        "\n",
        "    # 予測と評価\n",
        "    accuracy, macro_f1, weighted_f1, mcc = predict_and_evaluate(model, X_test, y_test)\n",
        "\n",
        "    # 結果の出力\n",
        "    print(f\"Accuracy: {accuracy}, Macro F1: {macro_f1}, Weighted F1: {weighted_f1}, MCC: {mcc}\")"
      ],
      "metadata": {
        "id": "DJsFE5MO8Nuh"
      },
      "execution_count": null,
      "outputs": []
    },
    {
      "cell_type": "code",
      "source": [
        "#10回計測する\n",
        "for i in range(10):\n",
        "  print(f\"{i+1}回目の計測\")\n",
        "  %memit main()\n",
        "  print(\"\\n\")"
      ],
      "metadata": {
        "colab": {
          "base_uri": "https://localhost:8080/"
        },
        "id": "CN55m21k8TdM",
        "outputId": "e33c55d9-8514-4845-9cf4-9f0958eeffff"
      },
      "execution_count": null,
      "outputs": [
        {
          "output_type": "stream",
          "name": "stdout",
          "text": [
            "1回目の計測\n",
            "Accuracy: 0.8944186046511627, Macro F1: 0.7880780956425417, Weighted F1: 0.9080340998952081, MCC: 0.6244731316185205\n",
            "peak memory: 300.92 MiB, increment: 113.12 MiB\n",
            "\n",
            "\n",
            "2回目の計測\n",
            "Accuracy: 0.8944186046511627, Macro F1: 0.7880780956425417, Weighted F1: 0.9080340998952081, MCC: 0.6244731316185205\n",
            "peak memory: 310.87 MiB, increment: 64.38 MiB\n",
            "\n",
            "\n",
            "3回目の計測\n",
            "Accuracy: 0.8944186046511627, Macro F1: 0.7880780956425417, Weighted F1: 0.9080340998952081, MCC: 0.6244731316185205\n",
            "peak memory: 310.79 MiB, increment: 62.97 MiB\n",
            "\n",
            "\n",
            "4回目の計測\n",
            "Accuracy: 0.8944186046511627, Macro F1: 0.7880780956425417, Weighted F1: 0.9080340998952081, MCC: 0.6244731316185205\n",
            "peak memory: 314.48 MiB, increment: 66.57 MiB\n",
            "\n",
            "\n",
            "5回目の計測\n",
            "Accuracy: 0.8944186046511627, Macro F1: 0.7880780956425417, Weighted F1: 0.9080340998952081, MCC: 0.6244731316185205\n",
            "peak memory: 310.93 MiB, increment: 62.70 MiB\n",
            "\n",
            "\n",
            "6回目の計測\n",
            "Accuracy: 0.8944186046511627, Macro F1: 0.7880780956425417, Weighted F1: 0.9080340998952081, MCC: 0.6244731316185205\n",
            "peak memory: 311.21 MiB, increment: 62.96 MiB\n",
            "\n",
            "\n",
            "7回目の計測\n",
            "Accuracy: 0.8944186046511627, Macro F1: 0.7880780956425417, Weighted F1: 0.9080340998952081, MCC: 0.6244731316185205\n",
            "peak memory: 311.15 MiB, increment: 62.89 MiB\n",
            "\n",
            "\n",
            "8回目の計測\n",
            "Accuracy: 0.8944186046511627, Macro F1: 0.7880780956425417, Weighted F1: 0.9080340998952081, MCC: 0.6244731316185205\n",
            "peak memory: 311.22 MiB, increment: 62.95 MiB\n",
            "\n",
            "\n",
            "9回目の計測\n",
            "Accuracy: 0.8944186046511627, Macro F1: 0.7880780956425417, Weighted F1: 0.9080340998952081, MCC: 0.6244731316185205\n",
            "peak memory: 311.27 MiB, increment: 62.98 MiB\n",
            "\n",
            "\n",
            "10回目の計測\n",
            "Accuracy: 0.8944186046511627, Macro F1: 0.7880780956425417, Weighted F1: 0.9080340998952081, MCC: 0.6244731316185205\n",
            "peak memory: 311.25 MiB, increment: 62.83 MiB\n",
            "\n",
            "\n"
          ]
        }
      ]
    },
    {
      "cell_type": "code",
      "source": [
        "import time\n",
        "\n",
        "# 予測と評価\n",
        "def predict_and_evaluate(model, X_test, y_test):\n",
        "    # 予測時間の計測を開始\n",
        "    start_time = time.time()\n",
        "    predictions = model.predict(X_test)\n",
        "    # 予測時間の計測を終了\n",
        "    end_time = time.time()\n",
        "    elapsed_time = end_time - start_time\n",
        "\n",
        "    # 評価指標の計算\n",
        "    accuracy = accuracy_score(y_test, predictions)\n",
        "    macro_f1 = f1_score(y_test, predictions, average='macro')\n",
        "    weighted_f1 = f1_score(y_test, predictions, average='weighted')\n",
        "    mcc = matthews_corrcoef(y_test, predictions)\n",
        "\n",
        "    return accuracy, macro_f1, weighted_f1, mcc, elapsed_time\n",
        "\n",
        "def main():\n",
        "    # データパス\n",
        "    train_path = r\"/content/drive/MyDrive/Wafer/Wafer_TRAIN.xlsx\"\n",
        "    test_path = r\"/content/drive/MyDrive/Wafer/Wafer_TEST.xlsx\"\n",
        "\n",
        "    # データの読み込み\n",
        "    train_df, test_df = load_data(train_path, test_path)\n",
        "\n",
        "    # データの前処理\n",
        "    X, y = preprocess_data(train_df, test_df)\n",
        "\n",
        "    # データの分割とアップサンプリング\n",
        "    X_train_upsampled, y_train_upsampled, X_test, y_test = split_and_upsample(X, y)\n",
        "\n",
        "    # モデルの訓練\n",
        "    model = train_model(X_train_upsampled, y_train_upsampled)  # ここでモデルを定義\n",
        "\n",
        "    # 予測と評価\n",
        "    accuracy, macro_f1, weighted_f1, mcc, elapsed_time = predict_and_evaluate(model, X_test, y_test)\n",
        "\n",
        "    # 結果の出力\n",
        "    print(f\"Accuracy: {accuracy}, Macro F1: {macro_f1}, Weighted F1: {weighted_f1}, MCC: {mcc}\")\n",
        "    print(f\"予測にかかった時間: {elapsed_time} 秒\")\n",
        "\n",
        "# 10回計測する\n",
        "for i in range(10):\n",
        "    print(f\"{i+1}回目の計測\")\n",
        "    main()\n",
        "    print(\"\\n\")"
      ],
      "metadata": {
        "colab": {
          "base_uri": "https://localhost:8080/"
        },
        "id": "LkBF9ohRg434",
        "outputId": "eaeaef2b-70b3-454f-e99d-24ae381441db"
      },
      "execution_count": null,
      "outputs": [
        {
          "output_type": "stream",
          "name": "stdout",
          "text": [
            "1回目の計測\n",
            "Accuracy: 0.8944186046511627, Macro F1: 0.7880780956425417, Weighted F1: 0.9080340998952081, MCC: 0.6244731316185205\n",
            "予測にかかった時間: 0.004404306411743164 秒\n",
            "\n",
            "\n",
            "2回目の計測\n",
            "Accuracy: 0.8944186046511627, Macro F1: 0.7880780956425417, Weighted F1: 0.9080340998952081, MCC: 0.6244731316185205\n",
            "予測にかかった時間: 0.004326820373535156 秒\n",
            "\n",
            "\n",
            "3回目の計測\n",
            "Accuracy: 0.8944186046511627, Macro F1: 0.7880780956425417, Weighted F1: 0.9080340998952081, MCC: 0.6244731316185205\n",
            "予測にかかった時間: 0.004365205764770508 秒\n",
            "\n",
            "\n",
            "4回目の計測\n",
            "Accuracy: 0.8944186046511627, Macro F1: 0.7880780956425417, Weighted F1: 0.9080340998952081, MCC: 0.6244731316185205\n",
            "予測にかかった時間: 0.005676746368408203 秒\n",
            "\n",
            "\n",
            "5回目の計測\n",
            "Accuracy: 0.8944186046511627, Macro F1: 0.7880780956425417, Weighted F1: 0.9080340998952081, MCC: 0.6244731316185205\n",
            "予測にかかった時間: 0.004373073577880859 秒\n",
            "\n",
            "\n",
            "6回目の計測\n",
            "Accuracy: 0.8944186046511627, Macro F1: 0.7880780956425417, Weighted F1: 0.9080340998952081, MCC: 0.6244731316185205\n",
            "予測にかかった時間: 0.004389762878417969 秒\n",
            "\n",
            "\n",
            "7回目の計測\n",
            "Accuracy: 0.8944186046511627, Macro F1: 0.7880780956425417, Weighted F1: 0.9080340998952081, MCC: 0.6244731316185205\n",
            "予測にかかった時間: 0.009833335876464844 秒\n",
            "\n",
            "\n",
            "8回目の計測\n",
            "Accuracy: 0.8944186046511627, Macro F1: 0.7880780956425417, Weighted F1: 0.9080340998952081, MCC: 0.6244731316185205\n",
            "予測にかかった時間: 0.0044100284576416016 秒\n",
            "\n",
            "\n",
            "9回目の計測\n",
            "Accuracy: 0.8944186046511627, Macro F1: 0.7880780956425417, Weighted F1: 0.9080340998952081, MCC: 0.6244731316185205\n",
            "予測にかかった時間: 0.004406452178955078 秒\n",
            "\n",
            "\n",
            "10回目の計測\n",
            "Accuracy: 0.8944186046511627, Macro F1: 0.7880780956425417, Weighted F1: 0.9080340998952081, MCC: 0.6244731316185205\n",
            "予測にかかった時間: 0.011878013610839844 秒\n",
            "\n",
            "\n"
          ]
        }
      ]
    }
  ]
}