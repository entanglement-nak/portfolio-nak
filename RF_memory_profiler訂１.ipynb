{
  "nbformat": 4,
  "nbformat_minor": 0,
  "metadata": {
    "colab": {
      "provenance": [],
      "authorship_tag": "ABX9TyP2+3V2aU6rRhsJMwIQ7t3A",
      "include_colab_link": true
    },
    "kernelspec": {
      "name": "python3",
      "display_name": "Python 3"
    },
    "language_info": {
      "name": "python"
    }
  },
  "cells": [
    {
      "cell_type": "markdown",
      "metadata": {
        "id": "view-in-github",
        "colab_type": "text"
      },
      "source": [
        "<a href=\"https://colab.research.google.com/github/entanglement-nak/portfolio-nak/blob/main/RF_memory_profiler%E8%A8%82%EF%BC%91.ipynb\" target=\"_parent\"><img src=\"https://colab.research.google.com/assets/colab-badge.svg\" alt=\"Open In Colab\"/></a>"
      ]
    },
    {
      "cell_type": "code",
      "execution_count": null,
      "metadata": {
        "colab": {
          "base_uri": "https://localhost:8080/"
        },
        "id": "XfGcfwxfL8oE",
        "outputId": "87743763-982b-45c2-875b-f5b0fd69bd8c"
      },
      "outputs": [
        {
          "output_type": "stream",
          "name": "stdout",
          "text": [
            "Collecting memory_profiler\n",
            "  Downloading memory_profiler-0.61.0-py3-none-any.whl (31 kB)\n",
            "Requirement already satisfied: psutil in /usr/local/lib/python3.10/dist-packages (from memory_profiler) (5.9.5)\n",
            "Installing collected packages: memory_profiler\n",
            "Successfully installed memory_profiler-0.61.0\n"
          ]
        }
      ],
      "source": [
        "import pandas as pd\n",
        "import numpy as np\n",
        "from sklearn.model_selection import train_test_split\n",
        "from sklearn.ensemble import RandomForestClassifier\n",
        "from sklearn.metrics import accuracy_score, f1_score, matthews_corrcoef, classification_report\n",
        "from sklearn.utils import resample\n",
        "!pip install memory_profiler\n",
        "from memory_profiler import profile"
      ]
    },
    {
      "cell_type": "code",
      "source": [
        "# memory_profilerのIPython拡張機能をロードする\n",
        "%load_ext memory_profiler"
      ],
      "metadata": {
        "id": "iiCLe9vnOn17"
      },
      "execution_count": null,
      "outputs": []
    },
    {
      "cell_type": "code",
      "source": [
        "from google.colab import drive\n",
        "drive.mount('/content/drive')"
      ],
      "metadata": {
        "colab": {
          "base_uri": "https://localhost:8080/"
        },
        "id": "vkew5PxWMVTm",
        "outputId": "6ec952ba-8cc7-472f-9391-e1401d51f4f4"
      },
      "execution_count": null,
      "outputs": [
        {
          "output_type": "stream",
          "name": "stdout",
          "text": [
            "Mounted at /content/drive\n"
          ]
        }
      ]
    },
    {
      "cell_type": "code",
      "source": [
        "# データの読み込み\n",
        "# profile\n",
        "def load_data(train_path, test_path):\n",
        "    train_df = pd.read_excel(train_path, header=None)\n",
        "    test_df = pd.read_excel(test_path, header=None)\n",
        "    return train_df, test_df"
      ],
      "metadata": {
        "id": "O_04GtG0MgL1"
      },
      "execution_count": null,
      "outputs": []
    },
    {
      "cell_type": "code",
      "source": [
        "# データの前処理\n",
        "# profile\n",
        "def preprocess_data(train_df, test_df):\n",
        "    combined_data = pd.concat([train_df, test_df], axis=0)\n",
        "    combined_data_filled = combined_data.fillna(combined_data.mean())\n",
        "    combined_data_cleaned = combined_data_filled.replace([np.inf, -np.inf], np.nan).fillna(combined_data_filled.mean())\n",
        "    X = combined_data_cleaned.drop(combined_data_cleaned.columns[0], axis=1)\n",
        "    y = combined_data_cleaned[combined_data_cleaned.columns[0]]\n",
        "    return X, y"
      ],
      "metadata": {
        "id": "Cju8fsKAMph5"
      },
      "execution_count": null,
      "outputs": []
    },
    {
      "cell_type": "code",
      "source": [
        "# データの分割とアップサンプリング\n",
        "# profile\n",
        "def split_and_upsample(X, y):\n",
        "    X_train, X_test, y_train, y_test = train_test_split(X, y, test_size=0.3, random_state=42)\n",
        "    df_train = pd.concat([X_train, y_train], axis=1)\n",
        "    df_normal_train = df_train[df_train[df_train.columns[-1]] == 1]\n",
        "    df_anomaly_train = df_train[df_train[df_train.columns[-1]] == -1]\n",
        "    df_anomaly_upsampled = resample(df_anomaly_train, replace=True, n_samples=len(df_normal_train), random_state=123)\n",
        "    df_upsampled_train = pd.concat([df_normal_train, df_anomaly_upsampled])\n",
        "    X_train_upsampled = df_upsampled_train.drop(df_upsampled_train.columns[-1], axis=1)\n",
        "    y_train_upsampled = df_upsampled_train[df_upsampled_train.columns[-1]]\n",
        "    return X_train_upsampled, y_train_upsampled, X_test, y_test"
      ],
      "metadata": {
        "id": "mO0NMJKvMr5I"
      },
      "execution_count": null,
      "outputs": []
    },
    {
      "cell_type": "code",
      "source": [
        "# モデルの訓練（ランダムフォレストへ変更）\n",
        "def train_model(X_train_upsampled, y_train_upsampled):\n",
        "    random_forest = RandomForestClassifier(n_estimators=500, max_depth=11, min_samples_split=12, min_samples_leaf=1)\n",
        "    random_forest.fit(X_train_upsampled, y_train_upsampled)\n",
        "    return random_forest"
      ],
      "metadata": {
        "id": "ptxUBZUmM0fI"
      },
      "execution_count": null,
      "outputs": []
    },
    {
      "cell_type": "code",
      "source": [
        "import time"
      ],
      "metadata": {
        "id": "9Vlb_ZfwuZm1"
      },
      "execution_count": null,
      "outputs": []
    },
    {
      "cell_type": "code",
      "source": [
        "# 予測と評価（時間計測付き）\n",
        "def predict_and_evaluate(model, X_test, y_test):\n",
        "    # 予測時間の計測を開始\n",
        "    start_time = time.time()\n",
        "    y_pred = model.predict(X_test)\n",
        "    # 予測時間の計測を終了\n",
        "    end_time = time.time()\n",
        "\n",
        "    # 予測にかかった時間を計算\n",
        "    elapsed_time = end_time - start_time\n",
        "\n",
        "    # 評価指標の計算\n",
        "    accuracy = accuracy_score(y_test, y_pred)\n",
        "    mcc = matthews_corrcoef(y_test, y_pred)\n",
        "    f1 = f1_score(y_test, y_pred, average='binary')\n",
        "    report = classification_report(y_test, y_pred)\n",
        "\n",
        "    return accuracy, mcc, f1, report, elapsed_time"
      ],
      "metadata": {
        "id": "qVcedNCuM1bi"
      },
      "execution_count": null,
      "outputs": []
    },
    {
      "cell_type": "code",
      "source": [
        "# メイン関数\n",
        "# profile\n",
        "def main():\n",
        "    # データパス\n",
        "    train_path = r\"/content/drive/MyDrive/Wafer/Wafer_TRAIN.xlsx\"\n",
        "    test_path = r\"/content/drive/MyDrive/Wafer/Wafer_TEST.xlsx\"\n",
        "\n",
        "    # データの読み込み\n",
        "    train_df, test_df = load_data(train_path, test_path)\n",
        "\n",
        "    # データの前処理\n",
        "    X, y = preprocess_data(train_df, test_df)\n",
        "\n",
        "    # データの分割とアップサンプリング\n",
        "    X_train_upsampled, y_train_upsampled, X_test, y_test = split_and_upsample(X, y)\n",
        "\n",
        "    # モデルの訓練\n",
        "    model = train_model(X_train_upsampled, y_train_upsampled)\n",
        "\n",
        "    # 予測と評価\n",
        "    accuracy, mcc, f1, report, elapsed_time = predict_and_evaluate(model, X_test, y_test)\n",
        "\n",
        "    # 結果の出力\n",
        "    print(f\"Accuracy: {accuracy}, MCC: {mcc}, F1 Score: {f1}\")\n",
        "    print(report)\n",
        "    print(f\"予測にかかった時間: {elapsed_time} 秒\")"
      ],
      "metadata": {
        "id": "TW4p1zjcOBjb"
      },
      "execution_count": null,
      "outputs": []
    },
    {
      "cell_type": "code",
      "source": [
        "# 10回計測する\n",
        "for i in range(10):\n",
        "    print(f\"{i+1}回目の計測\")\n",
        "    %memit main()\n",
        "    print(\"\\n\")"
      ],
      "metadata": {
        "colab": {
          "base_uri": "https://localhost:8080/"
        },
        "id": "Qft1zGEoOHuh",
        "outputId": "73983e1a-ad19-4409-fea4-e848c3c2106b"
      },
      "execution_count": null,
      "outputs": [
        {
          "output_type": "stream",
          "name": "stdout",
          "text": [
            "1回目の計測\n",
            "Accuracy: 0.9990697674418605, MCC: 0.9948874555978666, F1 Score: 0.999482669425763\n",
            "              precision    recall  f1-score   support\n",
            "\n",
            "          -1       0.99      1.00      1.00       216\n",
            "           1       1.00      1.00      1.00      1934\n",
            "\n",
            "    accuracy                           1.00      2150\n",
            "   macro avg       1.00      1.00      1.00      2150\n",
            "weighted avg       1.00      1.00      1.00      2150\n",
            "\n",
            "予測にかかった時間: 0.11068916320800781 秒\n",
            "peak memory: 306.88 MiB, increment: 113.08 MiB\n",
            "\n",
            "\n",
            "2回目の計測\n",
            "Accuracy: 0.9990697674418605, MCC: 0.9948874555978666, F1 Score: 0.999482669425763\n",
            "              precision    recall  f1-score   support\n",
            "\n",
            "          -1       0.99      1.00      1.00       216\n",
            "           1       1.00      1.00      1.00      1934\n",
            "\n",
            "    accuracy                           1.00      2150\n",
            "   macro avg       1.00      1.00      1.00      2150\n",
            "weighted avg       1.00      1.00      1.00      2150\n",
            "\n",
            "予測にかかった時間: 0.1037590503692627 秒\n",
            "peak memory: 316.29 MiB, increment: 49.11 MiB\n",
            "\n",
            "\n",
            "3回目の計測\n",
            "Accuracy: 0.9990697674418605, MCC: 0.9948874555978666, F1 Score: 0.999482669425763\n",
            "              precision    recall  f1-score   support\n",
            "\n",
            "          -1       0.99      1.00      1.00       216\n",
            "           1       1.00      1.00      1.00      1934\n",
            "\n",
            "    accuracy                           1.00      2150\n",
            "   macro avg       1.00      1.00      1.00      2150\n",
            "weighted avg       1.00      1.00      1.00      2150\n",
            "\n",
            "予測にかかった時間: 0.10877752304077148 秒\n",
            "peak memory: 319.19 MiB, increment: 50.29 MiB\n",
            "\n",
            "\n",
            "4回目の計測\n",
            "Accuracy: 0.9990697674418605, MCC: 0.9948874555978666, F1 Score: 0.999482669425763\n",
            "              precision    recall  f1-score   support\n",
            "\n",
            "          -1       0.99      1.00      1.00       216\n",
            "           1       1.00      1.00      1.00      1934\n",
            "\n",
            "    accuracy                           1.00      2150\n",
            "   macro avg       1.00      1.00      1.00      2150\n",
            "weighted avg       1.00      1.00      1.00      2150\n",
            "\n",
            "予測にかかった時間: 0.10445928573608398 秒\n",
            "peak memory: 316.79 MiB, increment: 63.65 MiB\n",
            "\n",
            "\n",
            "5回目の計測\n",
            "Accuracy: 0.9990697674418605, MCC: 0.9948874555978666, F1 Score: 0.999482669425763\n",
            "              precision    recall  f1-score   support\n",
            "\n",
            "          -1       0.99      1.00      1.00       216\n",
            "           1       1.00      1.00      1.00      1934\n",
            "\n",
            "    accuracy                           1.00      2150\n",
            "   macro avg       1.00      1.00      1.00      2150\n",
            "weighted avg       1.00      1.00      1.00      2150\n",
            "\n",
            "予測にかかった時間: 0.1148829460144043 秒\n",
            "peak memory: 316.88 MiB, increment: 47.69 MiB\n",
            "\n",
            "\n",
            "6回目の計測\n",
            "Accuracy: 0.9990697674418605, MCC: 0.9948874555978666, F1 Score: 0.999482669425763\n",
            "              precision    recall  f1-score   support\n",
            "\n",
            "          -1       0.99      1.00      1.00       216\n",
            "           1       1.00      1.00      1.00      1934\n",
            "\n",
            "    accuracy                           1.00      2150\n",
            "   macro avg       1.00      1.00      1.00      2150\n",
            "weighted avg       1.00      1.00      1.00      2150\n",
            "\n",
            "予測にかかった時間: 0.10617828369140625 秒\n",
            "peak memory: 316.67 MiB, increment: 47.39 MiB\n",
            "\n",
            "\n",
            "7回目の計測\n",
            "Accuracy: 0.9990697674418605, MCC: 0.9948874555978666, F1 Score: 0.999482669425763\n",
            "              precision    recall  f1-score   support\n",
            "\n",
            "          -1       0.99      1.00      1.00       216\n",
            "           1       1.00      1.00      1.00      1934\n",
            "\n",
            "    accuracy                           1.00      2150\n",
            "   macro avg       1.00      1.00      1.00      2150\n",
            "weighted avg       1.00      1.00      1.00      2150\n",
            "\n",
            "予測にかかった時間: 0.17056822776794434 秒\n",
            "peak memory: 317.02 MiB, increment: 47.73 MiB\n",
            "\n",
            "\n",
            "8回目の計測\n",
            "Accuracy: 0.9990697674418605, MCC: 0.9948874555978666, F1 Score: 0.999482669425763\n",
            "              precision    recall  f1-score   support\n",
            "\n",
            "          -1       0.99      1.00      1.00       216\n",
            "           1       1.00      1.00      1.00      1934\n",
            "\n",
            "    accuracy                           1.00      2150\n",
            "   macro avg       1.00      1.00      1.00      2150\n",
            "weighted avg       1.00      1.00      1.00      2150\n",
            "\n",
            "予測にかかった時間: 0.10285282135009766 秒\n",
            "peak memory: 318.98 MiB, increment: 49.67 MiB\n",
            "\n",
            "\n",
            "9回目の計測\n",
            "Accuracy: 0.9990697674418605, MCC: 0.9948874555978666, F1 Score: 0.999482669425763\n",
            "              precision    recall  f1-score   support\n",
            "\n",
            "          -1       0.99      1.00      1.00       216\n",
            "           1       1.00      1.00      1.00      1934\n",
            "\n",
            "    accuracy                           1.00      2150\n",
            "   macro avg       1.00      1.00      1.00      2150\n",
            "weighted avg       1.00      1.00      1.00      2150\n",
            "\n",
            "予測にかかった時間: 0.10678935050964355 秒\n",
            "peak memory: 316.95 MiB, increment: 47.64 MiB\n",
            "\n",
            "\n",
            "10回目の計測\n",
            "Accuracy: 0.9990697674418605, MCC: 0.9948874555978666, F1 Score: 0.999482669425763\n",
            "              precision    recall  f1-score   support\n",
            "\n",
            "          -1       0.99      1.00      1.00       216\n",
            "           1       1.00      1.00      1.00      1934\n",
            "\n",
            "    accuracy                           1.00      2150\n",
            "   macro avg       1.00      1.00      1.00      2150\n",
            "weighted avg       1.00      1.00      1.00      2150\n",
            "\n",
            "予測にかかった時間: 0.10789322853088379 秒\n",
            "peak memory: 316.96 MiB, increment: 47.66 MiB\n",
            "\n",
            "\n"
          ]
        }
      ]
    }
  ]
}